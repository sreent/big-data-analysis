{
  "nbformat": 4,
  "nbformat_minor": 0,
  "metadata": {
    "colab": {
      "provenance": [],
      "collapsed_sections": [
        "-SvnxG1_q_g7",
        "n-wQmYRlibVB",
        "zy8QePbbkvX8",
        "rRd1fp6hSy4w",
        "caVI0x7WXwEB",
        "lcH4xLEHa2I1",
        "-TM0VR8ycwnk",
        "v_gbt5wpeesC",
        "3qktL7N3j-XJ",
        "ET80qAnkrBeU",
        "Un7_efUHoHAn"
      ],
      "authorship_tag": "ABX9TyNYYkmLBVWKCdajOb+bhjgN",
      "include_colab_link": true
    },
    "kernelspec": {
      "name": "python3",
      "display_name": "Python 3"
    },
    "language_info": {
      "name": "python"
    }
  },
  "cells": [
    {
      "cell_type": "markdown",
      "metadata": {
        "id": "view-in-github",
        "colab_type": "text"
      },
      "source": [
        "<a href=\"https://colab.research.google.com/github/sreent/big-data-analysis/blob/main/Hadoop%20Hand-On%20Lab.ipynb\" target=\"_parent\"><img src=\"https://colab.research.google.com/assets/colab-badge.svg\" alt=\"Open In Colab\"/></a>"
      ]
    },
    {
      "cell_type": "markdown",
      "source": [
        "# **Hadoop Hand-On Lab**"
      ],
      "metadata": {
        "id": "RNiKnje-Vy8D"
      }
    },
    {
      "cell_type": "markdown",
      "source": [
        "##Setting Up Hadoop Environment"
      ],
      "metadata": {
        "id": "LSD5nfIw4rMR"
      }
    },
    {
      "cell_type": "code",
      "source": [
        "# install java and set JAVA_HOME variable \n",
        "!apt-get install openjdk-8-jdk-headless -qq > /dev/null\n",
        "\n",
        "# download hadoop to colab's compute engine\n",
        "!wget -q https://archive.apache.org/dist/hadoop/common/hadoop-3.3.0/hadoop-3.3.0.tar.gz\n",
        "!tar -xzf hadoop-3.3.0.tar.gz\n",
        "\n",
        "# create folder for storing hadoop files\n",
        "!mkdir -p /usr/local/hadoop\n",
        "# copy downloaded files the created hadoop folder \n",
        "!cp -r hadoop-3.3.0/* /usr/local/hadoop/.\n",
        "\n",
        "# delete download files\n",
        "!rm -rf hadoop*\n",
        "\n",
        "# set java and hadoop environment\n",
        "import os, sys\n",
        "os.environ[\"JAVA_HOME\"] = \"/usr/lib/jvm/java-8-openjdk-amd64\"\n",
        "os.environ[\"HADOOP_VERSION\"] = \"3.3.0\"\n",
        "os.environ[\"HADOOP_HOME\"] = \"/usr/local/hadoop\"\n",
        "os.environ[\"HADOOP_CONF_DIR\"] = \"/usr/local/hadoop/etc/hadoop\"\n",
        "os.environ[\"HADOOP_MAPRED_HOME\"] = \"/usr/local/hadoop\"\n",
        "os.environ[\"HADOOP_COMMON_HOME\"] = \"/usr/local/hadoop\"\n",
        "os.environ[\"HADOOP_HDFS_HOME\"] = \"/usr/local/hadoop\"\n",
        "os.environ[\"YARN_HOME\"] = \"/usr/local/hadoop\"\n",
        "os.environ[\"HADOOP_TOOLS\"] = \"/usr/local/hadoop/share/hadoop/tools/lib\"\n",
        "\n",
        "# append hadoop executable paths to the existing system path\n",
        "%set_env PATH=/opt/bin:/usr/local/nvidia/bin:/usr/local/cuda/bin:/usr/local/sbin:/usr/local/bin:/usr/sbin:/usr/bin:/sbin:/bin:/tools/node/bin:/tools/google-cloud-sdk/bin:/usr/local/hadoop/bin:/usr/local/hadoop/sbin"
      ],
      "metadata": {
        "id": "1642C-CiVx_m",
        "colab": {
          "base_uri": "https://localhost:8080/"
        },
        "outputId": "491a09f1-ecdf-49f1-c7e9-c68d4a1dd636"
      },
      "execution_count": null,
      "outputs": [
        {
          "output_type": "stream",
          "name": "stdout",
          "text": [
            "env: PATH=/opt/bin:/usr/local/nvidia/bin:/usr/local/cuda/bin:/usr/local/sbin:/usr/local/bin:/usr/sbin:/usr/bin:/sbin:/bin:/tools/node/bin:/tools/google-cloud-sdk/bin:/usr/local/hadoop/bin:/usr/local/hadoop/sbin\n"
          ]
        }
      ]
    },
    {
      "cell_type": "markdown",
      "source": [
        "##Command Line Cheat Sheet\n",
        "\n",
        "####Accessibility\n",
        "\n",
        "All [HADOOP commands](http://hadoop.apache.org/docs/stable/hadoop-project-dist/hadoop-common/FileSystemShell.html)  are invoked by the bin/hadoop Java script:\n",
        "```shell\n",
        "hadoop [SHELL_OPTIONS] COMMAND [GENERIC_OPTIONS] [COMMAND_OPTIONS]\n",
        "```\n",
        "\n",
        "####Manage files and directories\n",
        "```shell\n",
        "hadoop fs -ls -h -R # Recursively list subdirectories with human-readable file sizes.\n",
        "hadoop fs -cp  # Copy files from local to hdfs destination\n",
        "hadoop fs -mv  # Move files from source to destination\n",
        "hadoop fs -mkdir /foodir # Create a directory named /foodir\t\n",
        "hadoop fs -rm -r /foodir   # Remove a directory named /foodir\t\n",
        "hadoop fs -cat /foodir/myfile.txt #View the contents of a file named /foodir/myfile.txt\t\n",
        "```\n",
        "\n",
        "####Transfer files between nodes\n",
        "##### put\n",
        "```shell\n",
        "hadoop fs -put [-f] [-p] [-l] [-d] [ - | <localsrc1> .. ]. <dst>\n",
        "```\n",
        "Copy single src, or multiple srcs from local file system to the destination file system. \n",
        "\n",
        "Options:\n",
        "\n",
        "    -p : Preserves rights and modification times.\n",
        "    -f : Overwrites the destination if it already exists.\n",
        "\n",
        "```shell\n",
        "hadoop fs -put localfile /user/hadoop/hadoopfile\n",
        "hadoop fs -put -f localfile1 localfile2 /user/hadoop/hadoopdir\n",
        "```\n",
        "Similar to the fs -put command\n",
        "- `moveFromLocal` : to delete the source localsrc after copy.\n",
        "- `copyFromLocal` : source is restricted to a local file\n",
        "- `copyToLocal` : destination is restricted to a local file"
      ],
      "metadata": {
        "id": "_QHEfG6I1zSS"
      }
    },
    {
      "cell_type": "markdown",
      "source": [
        "##**Lab 1**: Hadoop Cluster\n",
        "**Task 1.1** Check that your HDFS home directory required to execute MapReduce jobs exists.\n",
        "```bash\n",
        "hadoop fs -ls /user/${USER}\n",
        "```\n",
        "\n",
        "Type the following commands: \n",
        "```bash\n",
        "hadoop fs -ls\n",
        "hadoop fs -ls ~/\n",
        "hadoop fs -mkdir ~/lab1\n",
        "```"
      ],
      "metadata": {
        "id": "fM5t9U_HUwl6"
      }
    },
    {
      "cell_type": "code",
      "source": [
        "%%shell\n",
        "# Insert Your Code Here"
      ],
      "metadata": {
        "id": "WiZ3FvQwWOFQ"
      },
      "execution_count": null,
      "outputs": []
    },
    {
      "cell_type": "code",
      "source": [
        "%%shell\n",
        "# Insert Your Code Here"
      ],
      "metadata": {
        "colab": {
          "base_uri": "https://localhost:8080/"
        },
        "id": "QtxgDx_LWRd0",
        "outputId": "f19395cc-7f27-4b15-b0ee-5bf3899a7d2d"
      },
      "execution_count": null,
      "outputs": [
        {
          "output_type": "stream",
          "name": "stdout",
          "text": [
            "Found 27 items\n",
            "-rwxr-xr-x   1 root root          0 2023-04-27 15:24 /.dockerenv\n",
            "-rw-r--r--   1 root root      16047 2023-02-02 05:18 /NGC-DL-CONTAINER-LICENSE\n",
            "drwxr-xr-x   - root root       4096 2023-04-27 15:26 /bin\n",
            "drwxr-xr-x   - root root       4096 2020-04-15 11:09 /boot\n",
            "drwxr-xr-x   - root root       4096 2023-04-27 15:35 /content\n",
            "drwxr-xr-x   - root root       4096 2023-04-25 13:48 /datalab\n",
            "drwxr-xr-x   - root root        360 2023-04-27 15:24 /dev\n",
            "drwxr-xr-x   - root root       4096 2023-04-27 15:26 /etc\n",
            "drwxr-xr-x   - root root       4096 2020-04-15 11:09 /home\n",
            "drwxr-xr-x   - root root       4096 2023-04-25 13:27 /lib\n",
            "drwxr-xr-x   - root root       4096 2023-04-25 13:23 /lib32\n",
            "drwxr-xr-x   - root root       4096 2023-01-26 08:28 /lib64\n",
            "drwxr-xr-x   - root root       4096 2023-01-26 08:26 /libx32\n",
            "drwxr-xr-x   - root root       4096 2023-01-26 08:26 /media\n",
            "drwxr-xr-x   - root root       4096 2023-01-26 08:26 /mnt\n",
            "drwxr-xr-x   - root root       4096 2023-04-25 13:50 /opt\n",
            "dr-xr-xr-x   - root root          0 2023-04-27 15:24 /proc\n",
            "drwxr-xr-x   - root root       4096 2023-04-25 13:29 /python-apt\n",
            "drwx------   - root root       4096 2023-04-27 15:37 /root\n",
            "drwxr-xr-x   - root root       4096 2023-04-25 13:22 /run\n",
            "drwxr-xr-x   - root root       4096 2023-04-27 15:24 /sbin\n",
            "drwxr-xr-x   - root root       4096 2023-01-26 08:26 /srv\n",
            "dr-xr-xr-x   - root root          0 2023-04-27 15:24 /sys\n",
            "drwxrwxrwt   - root root       4096 2023-04-27 15:26 /tmp\n",
            "drwxr-xr-x   - root root       4096 2023-04-25 13:48 /tools\n",
            "drwxr-xr-x   - root root       4096 2023-04-25 13:50 /usr\n",
            "drwxr-xr-x   - root root       4096 2023-04-25 13:49 /var\n"
          ]
        }
      ]
    },
    {
      "cell_type": "code",
      "source": [
        "%%shell\n",
        "# Insert Your Code Here"
      ],
      "metadata": {
        "colab": {
          "base_uri": "https://localhost:8080/"
        },
        "id": "1Vh3z-sYWUj_",
        "outputId": "0959d2bd-3421-4261-a572-e3ff1f21726d"
      },
      "execution_count": null,
      "outputs": [
        {
          "output_type": "stream",
          "name": "stdout",
          "text": [
            "root\n"
          ]
        }
      ]
    },
    {
      "cell_type": "markdown",
      "source": [
        "**Task 1.2** Create a folder called <code>lab1</code> and add a file <code>user.txt</code> containing your name and the date into i:\n",
        "```bash\n",
        "mkdir -p ./lab1\n",
        "echo \"FirstName LastName\" > ./lab1/user.txt\n",
        "echo `date` >> ./lab1/user.txt \n",
        "cat ./lab1/user.txt\n",
        "```"
      ],
      "metadata": {
        "id": "_t_DSo5yWFaf"
      }
    },
    {
      "cell_type": "code",
      "source": [
        "%%shell\n",
        "# Insert Your Code Here"
      ],
      "metadata": {
        "id": "6zEC90JlbhG8"
      },
      "execution_count": null,
      "outputs": []
    },
    {
      "cell_type": "code",
      "source": [
        "%%shell\n",
        "# Insert Your Code Here"
      ],
      "metadata": {
        "id": "mQrbAm6Mbhkl"
      },
      "execution_count": null,
      "outputs": []
    },
    {
      "cell_type": "code",
      "source": [
        "%%shell\n",
        "# Insert Your Code Here"
      ],
      "metadata": {
        "colab": {
          "base_uri": "https://localhost:8080/"
        },
        "id": "kbKmoIPWbh6Q",
        "outputId": "4653b36f-9b18-4873-b6c5-75c7dcc41072"
      },
      "execution_count": null,
      "outputs": [
        {
          "output_type": "stream",
          "name": "stdout",
          "text": [
            "10470 Jps\n"
          ]
        }
      ]
    },
    {
      "cell_type": "code",
      "source": [
        "%%shell\n",
        "# Insert Your Code Here"
      ],
      "metadata": {
        "id": "d_gSlslCMBqe"
      },
      "execution_count": null,
      "outputs": []
    },
    {
      "cell_type": "markdown",
      "source": [
        "**Task 1.3** Copy it on  HDFS :\n",
        "```bash\n",
        "hadoop fs -copyFromLocal ./lab1/user.txt ~/lab1/.\n",
        "```\n",
        "\n",
        "Check with:\n",
        "```bash\n",
        "hadoop fs -ls -R ~/lab1\n",
        "hadoop fs -cat ~/lab1/user.txt \n",
        "hadoop fs -tail ~/lab1/user.txt \n",
        "```"
      ],
      "metadata": {
        "id": "w6biwxwidgtz"
      }
    },
    {
      "cell_type": "code",
      "source": [
        "%%shell\n",
        "# Insert Your Code Here"
      ],
      "metadata": {
        "id": "IZH8SwvSb6Yp"
      },
      "execution_count": null,
      "outputs": []
    },
    {
      "cell_type": "code",
      "source": [
        "%%shell\n",
        "# Insert Your Code Here"
      ],
      "metadata": {
        "colab": {
          "base_uri": "https://localhost:8080/"
        },
        "id": "iNMK11FveNyH",
        "outputId": "2313876d-1681-4861-892d-c180c995ce22"
      },
      "execution_count": null,
      "outputs": [
        {
          "output_type": "stream",
          "name": "stdout",
          "text": [
            "FirstName LastName\n",
            "Thu 27 Apr 2023 03:58:03 PM UTC\n"
          ]
        }
      ]
    },
    {
      "cell_type": "code",
      "source": [
        "%%shell\n",
        "# Insert Your Code Here"
      ],
      "metadata": {
        "id": "NGmkH9SGesW8"
      },
      "execution_count": null,
      "outputs": []
    },
    {
      "cell_type": "code",
      "source": [
        "%%shell\n",
        "# Insert Your Code Here"
      ],
      "metadata": {
        "id": "psKyXblaevZP"
      },
      "execution_count": null,
      "outputs": []
    },
    {
      "cell_type": "markdown",
      "source": [
        "**Task 1.4** Remove file and directory on HDFS :\n",
        "Remove the file:\n",
        "```bash\n",
        "hadoop fs -rm ~/lab1/user.txt\n",
        "```\n",
        "Remove the directory:\n",
        "```bash\n",
        "hadoop fs -rm -r ~/lab1\n",
        "```\n",
        "\n",
        "Check with:\n",
        "```bash\n",
        "hadoop fs -ls -R ~/lab1 \n",
        "```"
      ],
      "metadata": {
        "id": "GNXFjDZvfm4r"
      }
    },
    {
      "cell_type": "code",
      "source": [
        "%%shell\n",
        "# Insert Your Code Here"
      ],
      "metadata": {
        "colab": {
          "base_uri": "https://localhost:8080/"
        },
        "id": "xNbm4WtPga1H",
        "outputId": "2e55e75b-32c2-4e90-fd29-79679424a9cb"
      },
      "execution_count": null,
      "outputs": [
        {
          "output_type": "stream",
          "name": "stdout",
          "text": [
            "Found 4 items\n",
            "drwxr-xr-x   - root root       4096 2023-04-25 13:33 .config\n",
            "drwxr-xr-x   - root root       4096 2023-04-25 13:34 sample_data\n",
            "drwxr-xr-x   - root root       4096 2023-04-27 15:35 test\n",
            "-rw-r--r--   1 root root         51 2023-04-27 15:58 user.txt\n"
          ]
        },
        {
          "output_type": "execute_result",
          "data": {
            "text/plain": []
          },
          "metadata": {},
          "execution_count": 42
        }
      ]
    },
    {
      "cell_type": "code",
      "source": [
        "%%shell\n",
        "# Insert Your Code Here"
      ],
      "metadata": {
        "id": "IgaajwdhgbNl"
      },
      "execution_count": null,
      "outputs": []
    },
    {
      "cell_type": "code",
      "source": [
        "%%shell\n",
        "# Insert Your Code Here"
      ],
      "metadata": {
        "id": "Pj3rjyg2gbrd"
      },
      "execution_count": null,
      "outputs": []
    },
    {
      "cell_type": "markdown",
      "source": [
        "##**Lab 2**: Command Line Hands-On Practice\n",
        "1. Create a directory <code>lab2</code> in <code>HDFS</code>.\n",
        "2. List the contents of a directory <code>~/lab2</code>.\n",
        "3. Upload the file <code>today.txt</code> in <code>HDFS</code>.\n",
        "```bash\n",
        "mkdir -p ./lab2\n",
        "date > ./lab2/today.txt\n",
        "whoami >> ./lab2/today.txt\n",
        "```\n",
        "4. Display contents of file <code>today.txt</code>\n",
        "5. Copy <code>today.txt</code> file from source to <code>lab2</code> directory.\n",
        "6. Copy file <code>jps.txt</code> from/To Local file system to <code>HDFS</code>. The <code>jps</code> command will report the local VM identifier for each instrumented JVM found on the target system.\n",
        "```bash\n",
        "jps > ./lab2/jps.txt\n",
        "```\n",
        "7. Move file <code>jps.txt</code> from source to <code>~/lab2</code>.\n",
        "8. Remove file <code>today.txt</code> from home directory in <code>HDFS</code>.\n",
        "9. Display last few lines of <code>jps.txt</code>.\n",
        "10. Display the help of <code>du</code> command and show the total amount of space in a human-readable fashion used by your home hdfs directory.\n",
        "12. Display the help of <code>df</code> command and show the total amount of space available in the filesystem in a human-readable fashion.\n",
        "13. With <code>chmod</code> change the rights of <code>today.txt</code> file. I has to be readable and writeable only by you."
      ],
      "metadata": {
        "id": "ythXikLqgpi8"
      }
    },
    {
      "cell_type": "code",
      "source": [
        "%%shell\n",
        "# Insert Your Code Here"
      ],
      "metadata": {
        "id": "CPQ-F45_ia7D"
      },
      "execution_count": null,
      "outputs": []
    },
    {
      "cell_type": "code",
      "source": [
        "%%shell\n",
        "# Insert Your Code Here"
      ],
      "metadata": {
        "id": "0V6aznzqjDKd"
      },
      "execution_count": null,
      "outputs": []
    },
    {
      "cell_type": "code",
      "source": [
        "%%shell\n",
        "# Insert Your Code Here"
      ],
      "metadata": {
        "id": "BNNh3aC1jDkP"
      },
      "execution_count": null,
      "outputs": []
    },
    {
      "cell_type": "code",
      "source": [
        "%%shell\n",
        "# Insert Your Code Here"
      ],
      "metadata": {
        "id": "8diVfJUCjDzt"
      },
      "execution_count": null,
      "outputs": []
    },
    {
      "cell_type": "code",
      "source": [
        "%%shell\n",
        "# Insert Your Code Here"
      ],
      "metadata": {
        "id": "5YvL_DL1jEJv"
      },
      "execution_count": null,
      "outputs": []
    },
    {
      "cell_type": "code",
      "source": [
        "%%shell\n",
        "# Insert Your Code Here"
      ],
      "metadata": {
        "id": "tkNmt9pDjESN"
      },
      "execution_count": null,
      "outputs": []
    },
    {
      "cell_type": "code",
      "source": [
        "%%shell\n",
        "# Insert Your Code Here"
      ],
      "metadata": {
        "id": "UW__nJKQjEYv"
      },
      "execution_count": null,
      "outputs": []
    },
    {
      "cell_type": "code",
      "source": [
        "%%shell\n",
        "# Insert Your Code Here"
      ],
      "metadata": {
        "id": "vUENrGrtjEgP"
      },
      "execution_count": null,
      "outputs": []
    },
    {
      "cell_type": "code",
      "source": [
        "%%shell\n",
        "# Insert Your Code Here"
      ],
      "metadata": {
        "id": "jmF7qIX9jElc"
      },
      "execution_count": null,
      "outputs": []
    },
    {
      "cell_type": "code",
      "source": [
        "%%shell\n",
        "# Insert Your Code Here"
      ],
      "metadata": {
        "id": "JZEk5UDZjEwp"
      },
      "execution_count": null,
      "outputs": []
    },
    {
      "cell_type": "code",
      "source": [
        "%%shell\n",
        "# Insert Your Code Here"
      ],
      "metadata": {
        "id": "iT1x5xE6jE6C"
      },
      "execution_count": null,
      "outputs": []
    },
    {
      "cell_type": "code",
      "source": [
        "%%shell\n",
        "# Insert Your Code Here"
      ],
      "metadata": {
        "id": "KI2jeCxXjHTT"
      },
      "execution_count": null,
      "outputs": []
    },
    {
      "cell_type": "markdown",
      "source": [
        "##**Lab 3**: Hadoop Streaming Using Python – Word Count Problem\n",
        "Hadoop Streaming is a feature that comes with Hadoop and allows users or developers to use various different languages for writing MapReduce programs like Python, C++, Ruby, etc. It supports all the languages that can read from standard input and write to standard output. We will be implementing Python with Hadoop Streaming and will observe how it works. We will implement the word count problem in python to understand Hadoop Streaming. We will be creating mapper.py and reducer.py to perform map and reduce tasks.\n",
        "\n",
        "Let’s create one file which contains multiple words that we can count.\n"
      ],
      "metadata": {
        "id": "hwy6sosSn1aH"
      }
    },
    {
      "cell_type": "markdown",
      "source": [
        "**Task 3.1**: Create a folder called <code>lab3</code> and add a text file with the name <code>data.txt</code> with some content into it.\n",
        "```shell\n",
        "mkdir -p ./lab3\n",
        "``` \n",
        "```shell\n",
        "%%writefile ./lab3/data.txt\n",
        "geeks for geeks is best online conding platform\n",
        "welcome to geeks for geeks hadoop streaming lab\n",
        "```"
      ],
      "metadata": {
        "id": "ktg2QHynDAAQ"
      }
    },
    {
      "cell_type": "code",
      "source": [
        "%%shell\n",
        "# Insert Your Code Here\n",
        "mkdir -p ./lab3"
      ],
      "metadata": {
        "colab": {
          "base_uri": "https://localhost:8080/"
        },
        "id": "HOeRyAd_ipBg",
        "outputId": "0e7bd378-894d-4201-e74a-f30981aca42a"
      },
      "execution_count": null,
      "outputs": [
        {
          "output_type": "execute_result",
          "data": {
            "text/plain": []
          },
          "metadata": {},
          "execution_count": 2
        }
      ]
    },
    {
      "cell_type": "code",
      "source": [
        "%%writefile ./lab3/data.txt\n",
        "# Add Your Content Here"
      ],
      "metadata": {
        "colab": {
          "base_uri": "https://localhost:8080/"
        },
        "id": "RSSp6hKd55Kq",
        "outputId": "aa769a20-5248-4239-f4a4-295147cc3d9c"
      },
      "execution_count": null,
      "outputs": [
        {
          "output_type": "stream",
          "name": "stdout",
          "text": [
            "Writing ./lab3/data.txt\n"
          ]
        }
      ]
    },
    {
      "cell_type": "markdown",
      "source": [
        "Check if <code>data.txt</code> is created in the <code>lab3</code> folder."
      ],
      "metadata": {
        "id": "LfthZjIyFzE_"
      }
    },
    {
      "cell_type": "code",
      "source": [
        "%%shell\n",
        "# Insert Your Code Here"
      ],
      "metadata": {
        "colab": {
          "base_uri": "https://localhost:8080/"
        },
        "id": "E3zqqXmuP2eH",
        "outputId": "3910f810-e7a7-4b65-ef0a-8c75b80ca96a"
      },
      "execution_count": null,
      "outputs": [
        {
          "output_type": "stream",
          "name": "stdout",
          "text": [
            "lab3  sample_data\n"
          ]
        }
      ]
    },
    {
      "cell_type": "markdown",
      "source": [
        "**Task 3.2**: Create a <code>mapper.py</code> file that implements the mapper logic. It will read the data from <code>STDIN</code> and will split the lines into words, and will generate an output of each word with its individual count. "
      ],
      "metadata": {
        "id": "xcx7rLl7Ga1g"
      }
    },
    {
      "cell_type": "code",
      "source": [
        "%%file ./lab3/mapper.py\n",
        "#!/usr/bin/env python\n",
        "  \n",
        "# import sys because we need to read and write data to STDIN and STDOUT\n",
        "import sys\n",
        "  \n",
        "# reading entire line from STDIN (standard input)\n",
        "for line in sys.stdin:\n",
        "    # to remove leading and trailing whitespace\n",
        "    line = line.strip()\n",
        "    # split the line into words\n",
        "    words = line.split()\n",
        "      \n",
        "    # we are looping over the words array and printing the word\n",
        "    # with the count of 1 to the STDOUT\n",
        "    for word in words:\n",
        "        # write the results to STDOUT (standard output);\n",
        "        # what we output here will be the input for the\n",
        "        # Reduce step, i.e. the input for reducer.py\n",
        "        print(\"%s\\t%s\" % (word, 1))"
      ],
      "metadata": {
        "colab": {
          "base_uri": "https://localhost:8080/"
        },
        "id": "tx6RQA3LPw2o",
        "outputId": "a3c8f0f4-1345-4ede-87aa-09bf21f1c63d"
      },
      "execution_count": null,
      "outputs": [
        {
          "output_type": "stream",
          "name": "stdout",
          "text": [
            "Writing ./lab3/mapper.py\n"
          ]
        }
      ]
    },
    {
      "cell_type": "markdown",
      "source": [
        "Let’s test our mapper.py locally that it is working fine or not.\n",
        "\n",
        "***Syntax***:\n",
        "```shell\n",
        "cat <text_data_file> | python <mapper_code_python_file>\n",
        "```"
      ],
      "metadata": {
        "id": "xshZ7FLpHPJ1"
      }
    },
    {
      "cell_type": "code",
      "source": [
        "%%shell\n",
        "# Insert Your Code Here"
      ],
      "metadata": {
        "colab": {
          "base_uri": "https://localhost:8080/"
        },
        "id": "CoP1SyHvPqxt",
        "outputId": "55286dc6-7bd8-4e0c-b2a4-79ca47ce904b"
      },
      "execution_count": null,
      "outputs": [
        {
          "output_type": "stream",
          "name": "stdout",
          "text": [
            "#\t1\n",
            "Add\t1\n",
            "Your\t1\n",
            "Content\t1\n",
            "Here\t1\n"
          ]
        },
        {
          "output_type": "execute_result",
          "data": {
            "text/plain": []
          },
          "metadata": {},
          "execution_count": 6
        }
      ]
    },
    {
      "cell_type": "markdown",
      "source": [
        "**Task 3.3**: Create a <code>reducer.py</code> file that implements the reducer logic. It will read the output of <code>mapper.py</code> from <code>STDIN </code> (standard input) and will aggregate the occurrence of each word and will write the final output to <code>STDOUT</code>. "
      ],
      "metadata": {
        "id": "cZB41_OGIETl"
      }
    },
    {
      "cell_type": "code",
      "source": [
        "%%file ./lab3/reducer.py\n",
        "#!/usr/bin/env python\n",
        "\n",
        "import sys\n",
        "  \n",
        "current_word = None\n",
        "current_count = 0\n",
        "word = None\n",
        "  \n",
        "# read the entire line from STDIN\n",
        "for line in sys.stdin:\n",
        "    # remove leading and trailing whitespace\n",
        "    line = line.strip()\n",
        "    # splitting the data on the basis of tab we have provided in mapper.py\n",
        "    word, count = line.split(\"\\t\", 1)\n",
        "    # convert count (currently a string) to int\n",
        "    try:\n",
        "        count = int(count)\n",
        "    except ValueError:\n",
        "        # count was not a number, so silently\n",
        "        # ignore/discard this line\n",
        "        continue\n",
        "  \n",
        "    # this IF-switch only works because Hadoop sorts map output\n",
        "    # by key (here: word) before it is passed to the reducer\n",
        "    if current_word == word:\n",
        "        current_count += count\n",
        "    else:\n",
        "        if current_word:\n",
        "            # write result to STDOUT\n",
        "            print(\"%s\\t%s\" % (current_word, current_count))\n",
        "        current_count = count\n",
        "        current_word = word\n",
        "  \n",
        "# do not forget to output the last word if needed!\n",
        "if current_word == word:\n",
        "    print(\"%s\\t%s\" % (current_word, current_count))"
      ],
      "metadata": {
        "colab": {
          "base_uri": "https://localhost:8080/"
        },
        "id": "XFDzo9k2Yx8q",
        "outputId": "5bdab44e-f14f-47a9-e7bb-012c65d67611"
      },
      "execution_count": null,
      "outputs": [
        {
          "output_type": "stream",
          "name": "stdout",
          "text": [
            "Overwriting ./lab3/reducer.py\n"
          ]
        }
      ]
    },
    {
      "cell_type": "markdown",
      "source": [
        "Now let’s check our reducer code <code>reducer.py</code> with <code>mapper.py</code> is it working properly or not with the help of the below command.\n",
        "\n",
        "<pre>\n",
        "cat ./lab3/data.txt | python ./lab3/mapper.py | sort -k1,1 | python ./lab3/reducer.py\n",
        "</pre>"
      ],
      "metadata": {
        "id": "3_-QD3DXJCQV"
      }
    },
    {
      "cell_type": "code",
      "source": [
        "%%shell\n",
        "# Insert Your Code Here"
      ],
      "metadata": {
        "colab": {
          "base_uri": "https://localhost:8080/"
        },
        "id": "F4yb5FS3Y1oy",
        "outputId": "c0abfc2a-a6ec-4632-8d10-236e4a108894"
      },
      "execution_count": null,
      "outputs": [
        {
          "output_type": "stream",
          "name": "stdout",
          "text": [
            "#\t1\n",
            "Add\t1\n",
            "Your\t1\n",
            "Content\t1\n",
            "Here\t1\n"
          ]
        },
        {
          "output_type": "execute_result",
          "data": {
            "text/plain": []
          },
          "metadata": {},
          "execution_count": 10
        }
      ]
    },
    {
      "cell_type": "markdown",
      "source": [
        "**Task 3.4**: Let’s deploy our MapReduce Python code into the Hadoop environemnt.\n",
        "\n",
        "Now make a directory word_count_in_python in our HDFS in the root directory that will store our word_count_data.txt file with the below command.\n",
        "<pre>\n",
        "hadoop fs -mkdir -p ~/lab3\n",
        "</pre>"
      ],
      "metadata": {
        "id": "ha314NQuRHXM"
      }
    },
    {
      "cell_type": "code",
      "source": [
        "%%shell\n",
        "# Insert Your Code Here"
      ],
      "metadata": {
        "id": "uzF4sfjRSQza"
      },
      "execution_count": null,
      "outputs": []
    },
    {
      "cell_type": "markdown",
      "source": [
        "Copy <code>data.txt</code> to this folder in our <code>HDFS</code> with help of <code>copyFromLocal</code> command.\n",
        "\n",
        "Syntax to copy a file from your local file system to the HDFS is given below:\n",
        "<pre>\n",
        "hadoop fs -copyFromLocal /path 1 /path 2 .... /path n /destination\n",
        "</pre>"
      ],
      "metadata": {
        "id": "mxmIyvUxSVpQ"
      }
    },
    {
      "cell_type": "code",
      "source": [
        "%%shell\n",
        "# Insert Your Code Here"
      ],
      "metadata": {
        "id": "mySv0bVcSWQD"
      },
      "execution_count": null,
      "outputs": []
    },
    {
      "cell_type": "markdown",
      "source": [
        "Now our data file has been sent to <code>HDFS</code> successfully. we can check whether it sends or not by using the below command or by manually visiting our HDFS. \n",
        "\n",
        "<pre>\n",
        "hadoop fs -ls ~/lab3    # list down content of ~/lab3 directory\n",
        "</pre>"
      ],
      "metadata": {
        "id": "ty7KMOacS3Rr"
      }
    },
    {
      "cell_type": "code",
      "source": [
        "%%shell\n",
        "# Insert Your Code Here"
      ],
      "metadata": {
        "id": "blTuYhosTTIQ"
      },
      "execution_count": null,
      "outputs": []
    },
    {
      "cell_type": "markdown",
      "source": [
        "Let’s give executable permission to our <code>mapper.py</code> and <code>reducer.py</code> with the help of below command.\n",
        "<pre>\n",
        "chmod +x ./lab3/mapper.py ./lab3/reducer.py     # changing the permission to read, write, execute for user, group and others\n",
        "</pre>"
      ],
      "metadata": {
        "id": "4yVNWQZeTzwq"
      }
    },
    {
      "cell_type": "code",
      "source": [
        "%%shell\n",
        "# Insert Your Code Here"
      ],
      "metadata": {
        "colab": {
          "base_uri": "https://localhost:8080/"
        },
        "id": "VaTnhAgnUGBo",
        "outputId": "4186d446-f6d5-49ce-a55f-cf5d0916c956"
      },
      "execution_count": 11,
      "outputs": [
        {
          "output_type": "execute_result",
          "data": {
            "text/plain": []
          },
          "metadata": {},
          "execution_count": 11
        }
      ]
    },
    {
      "cell_type": "markdown",
      "source": [
        "Then we can observe that we have changed the file permission."
      ],
      "metadata": {
        "id": "U_oYFU9QUT9F"
      }
    },
    {
      "cell_type": "code",
      "source": [
        "%%shell\n",
        "# Insert Your Code Here"
      ],
      "metadata": {
        "id": "YZ7aG2Q2UXDA"
      },
      "execution_count": null,
      "outputs": []
    },
    {
      "cell_type": "markdown",
      "source": [
        "**Task 3.5**: Now download the latest hadoop-streaming jar file from this Link. Then place, this Hadoop,-streaming jar file to a place from you can easily access it. In my case, I am placing it to /Documents folder where mapper.py and reducer.py file is present.\n",
        "\n",
        "Now let’s run our python files with the help of the Hadoop streaming utility as shown below.\n",
        "\n",
        "hadoop jar /home/dikshant/Documents/hadoop-streaming-2.7.3.jar \\\n",
        "> -input ~/lab3/data.txt \\\n",
        "> -output ~/lab3/output \\\n",
        "> -mapper ./lab3/mapper.py \\\n",
        "> -reducer ./lab3/reducer.py"
      ],
      "metadata": {
        "id": "zfPj_jzlU18O"
      }
    },
    {
      "cell_type": "markdown",
      "source": [
        "![image.png](data:image/png;base64,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)"
      ],
      "metadata": {
        "id": "WfeH9T4XOthN"
      }
    },
    {
      "cell_type": "markdown",
      "source": [
        "##The Employees Schema\n",
        "The Human Resources (HR) schema is part of the Oracle Sample  Schemas. The  practice labs in this course use data from the HR schema. Oracle provides several schema objects for training purposes.\n",
        "\n",
        "![hr-rl-sm.gif](https://drive.google.com/uc?id=1lbMXyFIaNQTjZPmDB3VghajrAAIm3FH0)"
      ],
      "metadata": {
        "id": "VkgSiZCu2Upb"
      }
    },
    {
      "cell_type": "markdown",
      "source": [
        "*italicized text*"
      ],
      "metadata": {
        "id": "l09JwMtY2WlW"
      }
    },
    {
      "cell_type": "markdown",
      "source": [
        "##**Lab 1**: Retrieving Data Using the SQL <code>SELECT</code> Statement\n",
        "This practice covers the following topics:\n",
        "- Selecting all data from different tables\n",
        "- Describing the structure of tables\n",
        "- Performing arithmetic calculations and specifying column names"
      ],
      "metadata": {
        "id": "jiuJmcJu5QQp"
      }
    },
    {
      "cell_type": "markdown",
      "source": [
        "**Task 1.1** The following <code>SELECT</code> statement executes successfully: (True/False)\n",
        "<pre>\n",
        "SELECT last_name, job_id, salary AS sal\n",
        "FROM employees;\n",
        "</pre>"
      ],
      "metadata": {
        "id": "6quvyh7B7Jqn"
      }
    },
    {
      "cell_type": "code",
      "source": [
        "%%sql\n",
        "# Insert Your Code Here\n",
        "SELECT last_name, job_id, salary AS sal\n",
        "FROM employees;"
      ],
      "metadata": {
        "id": "lcg1VR4t7I0V"
      },
      "execution_count": null,
      "outputs": []
    },
    {
      "cell_type": "markdown",
      "source": [
        "**Task 1.2** The following <code>SELECT</code> statement executes successfully: (True/False)\n",
        "<pre>\n",
        "SELECT *\n",
        "FROM jobs;\n",
        "</pre>"
      ],
      "metadata": {
        "id": "_bYvnYLkGz9R"
      }
    },
    {
      "cell_type": "code",
      "source": [
        "%%sql\n",
        "# Insert Your Code Here\n",
        "SELECT *\n",
        "FROM jobs;"
      ],
      "metadata": {
        "id": "zqQeRiQpHCUB"
      },
      "execution_count": null,
      "outputs": []
    },
    {
      "cell_type": "markdown",
      "source": [
        "**Task 1.3** There are 4 coding errors in the following statement. Can you identify and fix them?\n",
        "<pre>\n",
        "SELECT employee_id, last_name\n",
        "       sal x 12 ANNUAL SALARY\n",
        "FROM employees;\n",
        "</pre>"
      ],
      "metadata": {
        "id": "tc007AH_IegI"
      }
    },
    {
      "cell_type": "code",
      "source": [
        "%%sql\n",
        "# Insert Your Code Here\n",
        "SELECT employee_id, last_name, salary*12 AS \"ANNUAL SALARY\"\n",
        "FROM employees;"
      ],
      "metadata": {
        "id": "_BDTm9pbIiMp"
      },
      "execution_count": null,
      "outputs": []
    },
    {
      "cell_type": "markdown",
      "source": [
        "**Task 1.4** You have been hired as a SQL programmer. Your first task is to determine the structure of the <code>departments</code> table and its contents.\n",
        "\n",
        "To determine the <code>departments</code> table structure:\n",
        "<pre>\n",
        "DESCRIBE departments\n",
        "</pre>\n",
        "\n",
        "![task-1.4a.png](https://drive.google.com/uc?id=13wod4XZZ5IB25emHUa8OeyLEb26uzqCC)"
      ],
      "metadata": {
        "id": "aLduCgfRLs61"
      }
    },
    {
      "cell_type": "code",
      "source": [
        "%%sql\n",
        "# Insert Your Code Here\n",
        "DESCRIBE departments;"
      ],
      "metadata": {
        "id": "A02KaDspliU0"
      },
      "execution_count": null,
      "outputs": []
    },
    {
      "cell_type": "markdown",
      "source": [
        "To view the data contained in the <code>departments</code> table:\n",
        "<pre>\n",
        "SELECT *\n",
        "FROM departments;\n",
        "</pre>\n",
        "\n",
        "![task-1.4b.png](https://drive.google.com/uc?id=19XzjmVZcJrZWpF4toYnkL53YjKs6UjZ0)\n"
      ],
      "metadata": {
        "id": "SJeWE_8r2xYk"
      }
    },
    {
      "cell_type": "code",
      "source": [
        "%%sql\n",
        "# Insert Your Code Here\n",
        "SELECT *\n",
        "FROM departments;"
      ],
      "metadata": {
        "id": "bl4pTt_4oBZ5"
      },
      "execution_count": null,
      "outputs": []
    },
    {
      "cell_type": "markdown",
      "source": [
        "**Task 1.5** Your task is to determine the structure of the <code>employees</code> table and its contents.\n",
        "\n",
        "To determine the <code>employees</code> table structure:\n",
        "<pre>\n",
        "DESCRIBE employees\n",
        "</pre>\n",
        "\n",
        "![task-1.5.png](https://drive.google.com/uc?id=12Oi1uc_XZJChKNOU4uNon3W53dVFt6CI)"
      ],
      "metadata": {
        "id": "BIrEizsxo9xx"
      }
    },
    {
      "cell_type": "code",
      "source": [
        "%%sql\n",
        "# Insert Your Code Here\n",
        "DESCRIBE employees;"
      ],
      "metadata": {
        "id": "izwFAbbaOrVL"
      },
      "execution_count": null,
      "outputs": []
    },
    {
      "cell_type": "markdown",
      "source": [
        "**Task 1.6** The HR department wants a query to display the last name, hire date, and\n",
        "employee ID for each employee, with the employee ID appearing first. Provide an alias <code>start_date</code> for the <code>hire_date</code> column.\n",
        "<pre>\n",
        "SELECT employee_id, last_name, job_id, hire_date AS start_date\n",
        "FROM employees;\n",
        "</pre>\n",
        "\n",
        "![task-1.6.png](https://drive.google.com/uc?id=1m-kSw4rSwQYcgZ2tzo5tXEEwaxgjhtSa)"
      ],
      "metadata": {
        "id": "34c68uAop3T2"
      }
    },
    {
      "cell_type": "code",
      "source": [
        "%%sql\n",
        "# Insert Your Code Here\n",
        "SELECT employee_id, last_name, job_id, hire_date AS start_date\n",
        "FROM employees;"
      ],
      "metadata": {
        "id": "rJXGThYio8yE"
      },
      "execution_count": null,
      "outputs": []
    },
    {
      "cell_type": "markdown",
      "source": [
        "**Task 1.7** The HR department wants a query to display all unique job IDs from the <code>employees</code> table.\n",
        "\n",
        "<pre>\n",
        "SELECT DISTINCT job_id\n",
        "FROM employees;\n",
        "</pre>\n",
        "\n",
        "![task-1.7.png](https://drive.google.com/uc?id=1dVJOQBA7Nv2f6ppF4driH-IkO15ix2ET)"
      ],
      "metadata": {
        "id": "_xluUOhGqXoo"
      }
    },
    {
      "cell_type": "code",
      "source": [
        "%%sql\n",
        "# Insert Your Code Here\n",
        "SELECT DISTINCT job_id\n",
        "FROM employees;"
      ],
      "metadata": {
        "id": "_LPfe3Rjqoge"
      },
      "execution_count": null,
      "outputs": []
    },
    {
      "cell_type": "markdown",
      "source": [
        "##**Lab 2**: Restricting and Sorting Data\n",
        "This practice covers the following topics:\n",
        "- Selecting data and changing the order of the rows that are displayed\n",
        "- Restricting rows by using the <code>WHERE</code> clause\n",
        "- Sorting rows by using the <code>ORDER BY</code> clause\n",
        "\n",
        "In this practice, you build more reports by using statements that use the <code>WHERE</code> clause and the <code>ORDER BY</code> clause."
      ],
      "metadata": {
        "id": "-SvnxG1_q_g7"
      }
    },
    {
      "cell_type": "markdown",
      "source": [
        "**Task 2.1** The HR department needs your assistance in creating some queries. Because of budget issues, the HR department needs a report that displays the last name and salary of employees who earn more than $12,000.\n",
        "\n",
        "![task-2.1.png](https://drive.google.com/uc?id=1Jf76ZzpBJdmhq-HAGMbpv9WUc3ha3o0P)"
      ],
      "metadata": {
        "id": "S31zdHUEstXV"
      }
    },
    {
      "cell_type": "code",
      "source": [
        "%%sql\n",
        "# Insert Your Code Here\n",
        "SELECT last_name, salary\n",
        "FROM employees\n",
        "WHERE salary > 12000;"
      ],
      "metadata": {
        "id": "K-6v8pR9O7Tv"
      },
      "execution_count": null,
      "outputs": []
    },
    {
      "cell_type": "markdown",
      "source": [
        "**Task 2.2** Create a report that displays the last name and department\n",
        "number for employee number 176.\n",
        "\n",
        "![hr-rl-sm.gif](https://drive.google.com/uc?id=1AQWbDWAv5JxwgMZUdrn8wnrCV128J3Vd)\n"
      ],
      "metadata": {
        "id": "NhD3EYZpu9_s"
      }
    },
    {
      "cell_type": "code",
      "source": [
        "%%sql\n",
        "# Insert Your Code Here"
      ],
      "metadata": {
        "id": "7VEPaC9TIN_K"
      },
      "execution_count": null,
      "outputs": []
    },
    {
      "cell_type": "markdown",
      "source": [
        "**Task 2.3** The HR department needs to find high-salary and low-salary employees. Modify your SQL code created for Task 2.1 to display the last name and salary for any employee whose salary is not in the range \\$5,000 through \\$12,000.\n",
        "\n",
        "![hr-rl-sm.gif](https://drive.google.com/uc?id=1db8kCabhxb-spQdWJUToWb-jFMl9cjFF)\n"
      ],
      "metadata": {
        "id": "WeB8BZfivUKh"
      }
    },
    {
      "cell_type": "code",
      "source": [
        "%%sql\n",
        "# Insert Your Code Here"
      ],
      "metadata": {
        "id": "8oN1MiaF7AH0"
      },
      "execution_count": null,
      "outputs": []
    },
    {
      "cell_type": "markdown",
      "source": [
        "**Task 2.4** Create a report to display the last name and hire date for employees with the last names of Matos and Talyor. Order the query in ascending order by hire date.\n",
        "\n",
        "![hr-rl-sm.gif](https://drive.google.com/uc?id=1i-XUEew_xIG20grV9i79rNlRtrIN_feS)"
      ],
      "metadata": {
        "id": "ME6hzWk6gXzw"
      }
    },
    {
      "cell_type": "code",
      "source": [
        "%%sql\n",
        "# Insert Your Code Here"
      ],
      "metadata": {
        "id": "RxlVmg6hgXzx"
      },
      "execution_count": null,
      "outputs": []
    },
    {
      "cell_type": "markdown",
      "source": [
        "**Task 2.5** Display the last name and department number of all employees in departments <code>20</code> or <code>50</code> in ascending order by employee number.\n",
        "\n",
        "![hr-rl-sm.gif](https://drive.google.com/uc?id=1bPzYwvT4xiGo6GA8XzA1HZ3z63So8xol)\n"
      ],
      "metadata": {
        "id": "gw-15dW9gYOp"
      }
    },
    {
      "cell_type": "code",
      "source": [
        "%%sql\n",
        "# Insert Your Code Here"
      ],
      "metadata": {
        "id": "CrN0JmFkgYOp"
      },
      "execution_count": null,
      "outputs": []
    },
    {
      "cell_type": "markdown",
      "source": [
        "**Task 2.6** Modify the query for Task 2.3 to display the employee number and salary of employees who earn between \\$5,000 and \\$12,000. Label the columns <code>employee</code> and <code>monthly salary</code>, respectively.\n",
        "\n",
        "![hr-rl-sm.gif](https://drive.google.com/uc?id=1Cf5QtPmDv-KEXvarRAxHmbOdwL4fBKL6)\n"
      ],
      "metadata": {
        "id": "06gUzoYSgZa5"
      }
    },
    {
      "cell_type": "code",
      "source": [
        "%%sql\n",
        "# Insert Your Code Here"
      ],
      "metadata": {
        "id": "gukbPtBzgZa5"
      },
      "execution_count": null,
      "outputs": []
    },
    {
      "cell_type": "markdown",
      "source": [
        "**Task 2.7** The HR department needs a report that displays the last name and hire date of all employees who were hired in 2000.\n",
        "\n",
        "![hr-rl-sm.gif](https://drive.google.com/uc?id=1v2ATOUdIwMYbgCKxUn1g9NtIpLX-WUud)\n"
      ],
      "metadata": {
        "id": "IZ2PC7HPgZxJ"
      }
    },
    {
      "cell_type": "code",
      "source": [
        "%%sql\n",
        "# Insert Your Code Here"
      ],
      "metadata": {
        "id": "GRAorzC6gZxJ"
      },
      "execution_count": null,
      "outputs": []
    },
    {
      "cell_type": "markdown",
      "source": [
        "**Task 2.8** Create a report to display the employee number and job title of all employees who are currently a manager.\n",
        "\n",
        "![hr-rl-sm.gif](https://drive.google.com/uc?id=1tQjtbifEkssAz36RFss-biY50SzE2lSY)\n"
      ],
      "metadata": {
        "id": "LyDMnWvKgZ9B"
      }
    },
    {
      "cell_type": "code",
      "source": [
        "%%sql\n",
        "# Insert Your Code Here"
      ],
      "metadata": {
        "id": "1HqM9S51gZ9C"
      },
      "execution_count": null,
      "outputs": []
    },
    {
      "cell_type": "markdown",
      "source": [
        "**Task 2.9** Create a report to display the employee number and salaryof all current employees. Sort the data in descending order of salary. Use the column’s numeric position in the ORDER BY clause.\n",
        "\n",
        "![hr-rl-sm.gif](https://drive.google.com/uc?id=1kdZAF91gOnKJgg2F2JgwhGLuJm1kh-tE)\n"
      ],
      "metadata": {
        "id": "HBtkBPsjgaFb"
      }
    },
    {
      "cell_type": "code",
      "source": [
        "%%sql\n",
        "# Insert Your Code Here"
      ],
      "metadata": {
        "id": "l1iJgFTxgaFb"
      },
      "execution_count": null,
      "outputs": []
    },
    {
      "cell_type": "markdown",
      "source": [
        "##**Lab 3**: Using Single-Row Functions to Customize Output\n",
        "This practice covers the following topics:\n",
        "- Writing a query that displays the current date\n",
        "- Creating queries that require the use of numeric, character, and date functions\n",
        "- Performing calculations of years and months of service for an employee\n",
        "\n",
        "This practice provides a variety of exercises using the different functions that are available for\n",
        "character, number, and date data types. Remember that for nested functions, the results are evaluated from the innermost function to the outermost function."
      ],
      "metadata": {
        "id": "n-wQmYRlibVB"
      }
    },
    {
      "cell_type": "markdown",
      "source": [
        "**Task 3.1** Write a query to display the system date. Label the column Date.\n",
        "\n",
        "Note: If your database is remotely located in a different time zone, the output will be the date for the operating system on which the database resides.\n",
        "\n",
        "![hr-rl-sm.gif](https://drive.google.com/uc?id=1rx-d5wM7AANnaGV1TEQyftIiGkn9I8sV)"
      ],
      "metadata": {
        "id": "sJjbREamicB6"
      }
    },
    {
      "cell_type": "code",
      "source": [
        "%%sql\n",
        "# Insert Your Code Here"
      ],
      "metadata": {
        "id": "pWlqTFWmjFS3"
      },
      "execution_count": null,
      "outputs": []
    },
    {
      "cell_type": "markdown",
      "source": [
        "**Task 3.2** The HR department needs a report to display the employee ID, last name, salary, and salary increased by 15.5% (expressed as a whole number) for each employee. Label the column <code>new_salary</code>.\n",
        "\n",
        "![hr-rl-sm.gif](https://drive.google.com/uc?id=1zfeoFuQTDBaM457ZRv6VXGNEJOamuUaW)\n"
      ],
      "metadata": {
        "id": "KntUDufQjahA"
      }
    },
    {
      "cell_type": "code",
      "source": [
        "%%sql\n",
        "# Insert Your Code Here"
      ],
      "metadata": {
        "id": "JyLOv4J6jahG"
      },
      "execution_count": null,
      "outputs": []
    },
    {
      "cell_type": "markdown",
      "source": [
        "**Task 3.3** Modify your query in the Task 3.2 to add a column that subtracts the old salary from the new salary. Label the column <code>increase</code>.\n",
        "\n",
        "![hr-rl-sm.gif](https://drive.google.com/uc?id=1MkU_OL40W33l7dVQTjLBUy9SiWhsJ4Sp)\n"
      ],
      "metadata": {
        "id": "zAW3NpyYjbcp"
      }
    },
    {
      "cell_type": "code",
      "source": [
        "%%sql\n",
        "# Insert Your Code Here"
      ],
      "metadata": {
        "id": "UUDxQkzQjbcp"
      },
      "execution_count": null,
      "outputs": []
    },
    {
      "cell_type": "markdown",
      "source": [
        "**Task 3.4** Write a query that displays the last name (with the first letter in uppercase and all the\n",
        "other letters in lowercase) and the length of the last name for all employees whose name starts with the letters “J,” “A,” or “M.” Give each column an appropriate label. Sort the results by the employees’ last names.\n",
        "\n",
        "![hr-rl-sm.gif](https://drive.google.com/uc?id=1bblPebmjozZKz92sxfmrgu8aQYnb__Ir)\n"
      ],
      "metadata": {
        "id": "hsYy_MNKjb1A"
      }
    },
    {
      "cell_type": "code",
      "source": [
        "%%sql\n",
        "# Insert Your Code Here"
      ],
      "metadata": {
        "id": "JAeHbx7Pjb1B"
      },
      "execution_count": null,
      "outputs": []
    },
    {
      "cell_type": "markdown",
      "source": [
        "##**Lab 4**: Using Conversion Functions and Conditional Expressions\n",
        "This practice covers the following topics:\n",
        "- Creating queries that use <code>CAST</code> function.\n",
        "- Creating queries that use conditional expressions such as <code>CASE</code> and <code>IFNULL</code>."
      ],
      "metadata": {
        "id": "zy8QePbbkvX8"
      }
    },
    {
      "cell_type": "markdown",
      "source": [
        "**Task 4.1** Create a report that produces the following for each employee:\n",
        "<code><employee last name></code> earns <code>salary</code> monthly but wants <code>3 times salary</code>. Label the column <code>dream_salary</code>.\n",
        "\n",
        "![hr-rl-sm.gif](https://drive.google.com/uc?id=1w05zy2kB8TB2CHBH7VBnQ9rPIYhAJhYh)\n"
      ],
      "metadata": {
        "id": "xJLTUvMrkvX8"
      }
    },
    {
      "cell_type": "code",
      "source": [
        "%%sql\n",
        "# Insert Your Code Here"
      ],
      "metadata": {
        "id": "r4XgVMQ_kvX8"
      },
      "execution_count": null,
      "outputs": []
    },
    {
      "cell_type": "markdown",
      "source": [
        "**Task 4.2** Create a query that displays employees’ last names and commission amounts. If an\n",
        "employee does not earn commission, show “No Commission.” Label the column <code>comm</code>.\n",
        "\n",
        "![hr-rl-sm.gif](https://drive.google.com/uc?id=1sqnC1mMpRAHZIhIz5aibcZlVOa3lqsj1)"
      ],
      "metadata": {
        "id": "SRoA8Voql5Ju"
      }
    },
    {
      "cell_type": "code",
      "source": [
        "%%sql\n",
        "# Insert Your Code Here"
      ],
      "metadata": {
        "id": "IMGr7_Crl5Jv"
      },
      "execution_count": null,
      "outputs": []
    },
    {
      "cell_type": "markdown",
      "source": [
        "**Task 4.3** . Rewrite the statement in the preceding exercise by using the <code>CASE</code> syntax.\n",
        "\n",
        "![hr-rl-sm.gif](https://drive.google.com/uc?id=16DnEozDjo58rwggN8Ug23yLkG6Iimgep)"
      ],
      "metadata": {
        "id": "X-3k5v0wl5fw"
      }
    },
    {
      "cell_type": "code",
      "source": [
        "%%sql\n",
        "# Insert Your Code Here"
      ],
      "metadata": {
        "id": "TNdfYV9Rl5fw"
      },
      "execution_count": null,
      "outputs": []
    },
    {
      "cell_type": "markdown",
      "source": [
        "##**Lab 5**: Reporting Aggregated Data Using the Group Functions\n",
        "This practice covers the following topics:\n",
        "- Writing queries that use the group functions\n",
        "- Grouping by rows to achieve multiple results\n",
        "- Restricting groups by using the <code>HAVING</code> clause\n",
        "\n",
        "After completing this practice, you should be familiar with using group functions and selecting\n",
        "groups of data."
      ],
      "metadata": {
        "id": "rRd1fp6hSy4w"
      }
    },
    {
      "cell_type": "markdown",
      "source": [
        "**Task 5.1** Determine the validity of the following statements. Either True or False.\n",
        "- Group functions work across many rows to produce one result per group. <code>True/False</code>\n",
        "- Group functions include nulls in calculations. <code>True/False</code>\n",
        "- The <code>WHERE</code> clause restricts rows before inclusion in a group calculation.<code>True/False</code>"
      ],
      "metadata": {
        "id": "IT1UdB1VSy4x"
      }
    },
    {
      "cell_type": "code",
      "source": [
        "%%sql\n",
        "# Insert Your Code Here"
      ],
      "metadata": {
        "id": "9UluAyXLUdg_"
      },
      "execution_count": null,
      "outputs": []
    },
    {
      "cell_type": "markdown",
      "source": [
        "**Task 5.2** The HR department needs the following reports (5.2-5.5): Find the highest, lowest, sum, and average salary of all employees. Label the columns <code>maximum</code>, <code>minimum</code>, <code>sum</code>, and <code>average</code>, respectively. Round your results to the\n",
        "nearest whole number.\n",
        "\n",
        "\n",
        "![hr-rl-sm.gif](https://drive.google.com/uc?id=1aiUYt_7_mXxppPZSporFGWgYtcyT6YKG)\n"
      ],
      "metadata": {
        "id": "TsyWpzXGU5l1"
      }
    },
    {
      "cell_type": "code",
      "source": [
        "%%sql\n",
        "# Insert Your Code Here"
      ],
      "metadata": {
        "id": "3jBOz-OsU5l1"
      },
      "execution_count": null,
      "outputs": []
    },
    {
      "cell_type": "markdown",
      "source": [
        "**Task 5.3** Modify the query in Task 5.2 to display the minimum, maximum, sum and average salary for each job type.\n",
        "\n",
        "\n",
        "![hr-rl-sm.gif](https://drive.google.com/uc?id=1RLqrmRzwwIx3YkmEP6_UqACUAGt-BGlF)\n"
      ],
      "metadata": {
        "id": "VrOBnheKWpSf"
      }
    },
    {
      "cell_type": "code",
      "source": [
        "%%sql\n",
        "# Insert Your Code Here"
      ],
      "metadata": {
        "id": "TFPjY5OyWpSf"
      },
      "execution_count": null,
      "outputs": []
    },
    {
      "cell_type": "markdown",
      "source": [
        "**Task 5.4** Write a query to display the number of people with the same job.\n",
        "\n",
        "\n",
        "![hr-rl-sm.gif](https://drive.google.com/uc?id=1meBgSUvu7GhkPiS03cw2AKtXVEnT8sZQ)\n"
      ],
      "metadata": {
        "id": "oBt4ZoZGWplv"
      }
    },
    {
      "cell_type": "code",
      "source": [
        "%%sql\n",
        "# Insert Your Code Here"
      ],
      "metadata": {
        "id": "4TQYI0VrWplw"
      },
      "execution_count": null,
      "outputs": []
    },
    {
      "cell_type": "markdown",
      "source": [
        "**Task 5.5** Find the difference between the highest and lowest salaries. Label the column <code>difference</code>.\n",
        "\n",
        "\n",
        "![hr-rl-sm.gif](https://drive.google.com/uc?id=1763WAWmYkX_biNAFVsZnnElS7mrzLwRF)\n"
      ],
      "metadata": {
        "id": "fBafc3vXXPoU"
      }
    },
    {
      "cell_type": "code",
      "source": [
        "%%sql\n",
        "# Insert Your Code Here"
      ],
      "metadata": {
        "id": "vmoHt6XJXPoa"
      },
      "execution_count": null,
      "outputs": []
    },
    {
      "cell_type": "markdown",
      "source": [
        "##**Lab 6**: Displaying Data from Multiple Tables Using Joins\n",
        "This practice covers the following topics:\n",
        "- Joining tables using an equijoin\n",
        "- Performing outer and self-joins\n",
        "- Adding conditions\n",
        "\n",
        "This practice is intended to give you experience in extracting data from multiple tables using the\n",
        "SQL:1999–compliant joins."
      ],
      "metadata": {
        "id": "caVI0x7WXwEB"
      }
    },
    {
      "cell_type": "markdown",
      "source": [
        "**Task 6.1** Write a query for the HR department to produce the addresses of all the departments. Use\n",
        "the <code>locations</code> and <code>countries</code> tables. Show the location ID, street address, city, state or province, and country in the output. Use a <code>INNER JOIN</code> to produce the results.\n",
        "\n",
        "\n",
        "![hr-rl-sm.gif](https://drive.google.com/uc?id=1lkDiZyPLys5zOeJ0Sacys-KGBTYQzkXB)\n"
      ],
      "metadata": {
        "id": "quFaCX0XXwEB"
      }
    },
    {
      "cell_type": "code",
      "source": [
        "%%sql\n",
        "# Insert Your Code Here"
      ],
      "metadata": {
        "id": "ANgjpXu2XwEB"
      },
      "execution_count": null,
      "outputs": []
    },
    {
      "cell_type": "markdown",
      "source": [
        "**Task 6.2** The HR department needs a report of all employees with corresponding departments. Write a query to display the last name, department number, and department name for these employees.\n",
        "\n",
        "\n",
        "![hr-rl-sm.gif](https://drive.google.com/uc?id=1JTsOIByK3ZfNh12_1lgvXZvxxrW-ku_Q)\n"
      ],
      "metadata": {
        "id": "SU1axddCXwEC"
      }
    },
    {
      "cell_type": "code",
      "source": [
        "%%sql\n",
        "# Insert Your Code Here"
      ],
      "metadata": {
        "id": "eMyap8xBXwEC"
      },
      "execution_count": null,
      "outputs": []
    },
    {
      "cell_type": "markdown",
      "source": [
        "**Task 6.3** The HR department needs a report of employees in Toronto. Display the last name, job, department number, and the department name for all employees who work in Toronto.\n",
        "\n",
        "\n",
        "![hr-rl-sm.gif](https://drive.google.com/uc?id=1-jT63i8B447qKEcAaTc_toW2LRVxd3ai)\n"
      ],
      "metadata": {
        "id": "ypBPQlmFXwEC"
      }
    },
    {
      "cell_type": "code",
      "source": [
        "%%sql\n",
        "# Insert Your Code Here"
      ],
      "metadata": {
        "id": "Yeu-CnYnXwEC"
      },
      "execution_count": null,
      "outputs": []
    },
    {
      "cell_type": "markdown",
      "source": [
        "**Task 6.4** Create a report to display employees’ last names and employee numbers along with their\n",
        "managers’ last names and manager numbers. Label the columns <code>employee</code>, <code>emp#</code>, <code>manager</code>, and <code>mgr#</code>, respectively.\n",
        "\n",
        "\n",
        "![hr-rl-sm.gif](https://drive.google.com/uc?id=1VeZUVswgKiMid3cRt1EVGfo56lyOL2iQ)\n"
      ],
      "metadata": {
        "id": "wIUhKYE-XwEC"
      }
    },
    {
      "cell_type": "code",
      "source": [
        "%%sql\n",
        "# Insert Your Code Here"
      ],
      "metadata": {
        "id": "GdCbeLryXwEC"
      },
      "execution_count": null,
      "outputs": []
    },
    {
      "cell_type": "markdown",
      "source": [
        "**Task 6.5** Modify the query used in Task 6.4 to display all employees, including King, who has no manager. Order the results by employee number.\n",
        "\n",
        "\n",
        "![hr-rl-sm.gif](https://drive.google.com/uc?id=1sQPiQkfXGbxDYxz5gtfV7maZm84fXzeQ)\n"
      ],
      "metadata": {
        "id": "Iy_U14l7XwEC"
      }
    },
    {
      "cell_type": "code",
      "source": [
        "%%sql\n",
        "# Insert Your Code Here"
      ],
      "metadata": {
        "id": "1tL6fXmEXwEC"
      },
      "execution_count": null,
      "outputs": []
    },
    {
      "cell_type": "markdown",
      "source": [
        "**Task 6.6** Create a report for the HR department that displays employee last names, department\n",
        "numbers, and all the employees who work in the same department as a given employee. Give each column an appropriate label.\n",
        "\n",
        "\n",
        "![hr-rl-sm.gif](https://drive.google.com/uc?id=1hv0PjVrB9kFGAeNIehCbENfPdv9g3My4)\n"
      ],
      "metadata": {
        "id": "KQsu9v3KXwEC"
      }
    },
    {
      "cell_type": "code",
      "source": [
        "%%sql\n",
        "# Insert Your Code Here"
      ],
      "metadata": {
        "id": "xCmrs_bBXwEC"
      },
      "execution_count": null,
      "outputs": []
    },
    {
      "cell_type": "markdown",
      "source": [
        "**Task 6.7** The HR department needs a report on job grades and salaries. To familiarize yourself with\n",
        "the <code>jobs</code> table, first show the structure of the <code>jobs</code> table. Then create a query that displays the name, job, department name, salary, mininum salary, and maximum salary for the job title for all employees.\n",
        "\n",
        "![hr-rl-sm.gif](https://drive.google.com/uc?id=1gZY5CRjpTTr95GadNgJluVi-rOs53w7i)\n",
        "\n",
        "![hr-rl-sm.gif](https://drive.google.com/uc?id=18hzavaby0gGuzvB_blJkUDS199s4vUa3)"
      ],
      "metadata": {
        "id": "_gMY1TfBZT_g"
      }
    },
    {
      "cell_type": "code",
      "source": [
        "%%sql\n",
        "# Insert Your Code Here"
      ],
      "metadata": {
        "id": "I0Qnkyv7ZT_m"
      },
      "execution_count": null,
      "outputs": []
    },
    {
      "cell_type": "code",
      "source": [
        "%%sql\n",
        "# Insert Your Code Here"
      ],
      "metadata": {
        "id": "m1S04EoqZynW"
      },
      "execution_count": null,
      "outputs": []
    },
    {
      "cell_type": "markdown",
      "source": [
        "##**Lab 7**: Using Subqueries to Solve Queries\n",
        "This practice covers the following topics:\n",
        "- Using subqueries to find values that exist in one set of data and not in another\n",
        "\n",
        "In this practice, you write complex queries using nested <code>SELECT</code> statements. For practice questions, you may want to create the inner query first. Make sure that it runs and produces the data that you anticipate before you code the outer query."
      ],
      "metadata": {
        "id": "lcH4xLEHa2I1"
      }
    },
    {
      "cell_type": "markdown",
      "source": [
        "**Task 7.1** Create a report that displays the employee number, last name, and salary of all employees who earn more than the average salary. Sort the results in ascending order by salary.\n",
        "\n",
        "![hr-rl-sm.gif](https://drive.google.com/uc?id=1lDqcmDmbpJqFw5X6K3_iyZ6NLa4HUtPR)\n"
      ],
      "metadata": {
        "id": "_zzqorGXa2I7"
      }
    },
    {
      "cell_type": "code",
      "source": [
        "%%sql\n",
        "# Insert Your Code Here"
      ],
      "metadata": {
        "id": "BNaffBMaa2I7"
      },
      "execution_count": null,
      "outputs": []
    },
    {
      "cell_type": "markdown",
      "source": [
        "**Task 7.2** Write a query that displays the employee number and last name of all employees who work in a department with any employee whose last name contains the letter “u.”\n",
        "\n",
        "![hr-rl-sm.gif](https://drive.google.com/uc?id=1lyGF5Ke37SsVMPPcThBmvCBAAyGCYLaP)\n"
      ],
      "metadata": {
        "id": "x6aGELQaa2I7"
      }
    },
    {
      "cell_type": "code",
      "source": [
        "%%sql\n",
        "# Insert Your Code Here"
      ],
      "metadata": {
        "id": "BsXJY5a1a2I7"
      },
      "execution_count": null,
      "outputs": []
    },
    {
      "cell_type": "markdown",
      "source": [
        "**Task 7.3** The HR department needs a report that displays the last name, department number, and job ID of all employees whose department location ID is 1700.\n",
        "\n",
        "![hr-rl-sm.gif](https://drive.google.com/uc?id=1xFaRQxhRkPmZvd9LTblRFmaWxpZn3J83)\n"
      ],
      "metadata": {
        "id": "3i4s1mOla2I7"
      }
    },
    {
      "cell_type": "code",
      "source": [
        "%%sql\n",
        "# Insert Your Code Here"
      ],
      "metadata": {
        "id": "7NwXDM51a2I7"
      },
      "execution_count": null,
      "outputs": []
    },
    {
      "cell_type": "markdown",
      "source": [
        "**Task 7.4** Create a report for HR that displays the last name and salary of every employee who reports to King.\n",
        "\n",
        "![hr-rl-sm.gif](https://drive.google.com/uc?id=19BGt-2C6DvPY-i0QynNRCUrwX8TE8Dj1)\n"
      ],
      "metadata": {
        "id": "03iBbuEda2I7"
      }
    },
    {
      "cell_type": "code",
      "source": [
        "%%sql\n",
        "# Insert Your Code Here"
      ],
      "metadata": {
        "id": "vPOrVjKXa2I7"
      },
      "execution_count": null,
      "outputs": []
    },
    {
      "cell_type": "markdown",
      "source": [
        "**Task 7.5** Create a report for HR that displays the department number, last name, and job ID for every employee in the Executive department.\n",
        "\n",
        "![hr-rl-sm.gif](https://drive.google.com/uc?id=1suXfsXKLaP7TVj6UmsQt6mSrT2Ng4YCM)\n"
      ],
      "metadata": {
        "id": "PrlT7nLja2I8"
      }
    },
    {
      "cell_type": "code",
      "source": [
        "%%sql\n",
        "# Insert Your Code Here"
      ],
      "metadata": {
        "id": "Muk2xRfSa2I8"
      },
      "execution_count": null,
      "outputs": []
    },
    {
      "cell_type": "markdown",
      "source": [
        "**Task 7.6** Create a report that displays a list of all employees whose salary is more than the salary of any employee from department 60.\n",
        "\n",
        "![hr-rl-sm.gif](https://drive.google.com/uc?id=1fhQY6pcXvWRofbaWmg6QZo7Aqb2TXAWi)\n"
      ],
      "metadata": {
        "id": "wo9hFWgaa2I8"
      }
    },
    {
      "cell_type": "code",
      "source": [
        "%%sql\n",
        "# Insert Your Code Here"
      ],
      "metadata": {
        "id": "vI0o4M3ra2I8"
      },
      "execution_count": null,
      "outputs": []
    },
    {
      "cell_type": "markdown",
      "source": [
        "##**Lab 8**: Using the Set Operators\n",
        "In this practice, you create reports by using the following:\n",
        "- <code>UNION</code> operator\n",
        "- <code>INTERSECT</code> operator\n",
        "- <code>EXCEPT</code> operator\n",
        "\n",
        "In this practice, you write queries using the set operators <code>UNION</code>, <code>INTERSECT</code>, and <code>EXCEPT</code>."
      ],
      "metadata": {
        "id": "-TM0VR8ycwnk"
      }
    },
    {
      "cell_type": "markdown",
      "source": [
        "**Task 8.1** The HR department needs a list of department IDs for departments that do not contain the job ID <code>ST_CLERK</code>. Use the set operators to create this report.\n",
        "\n",
        "![hr-rl-sm.gif](https://drive.google.com/uc?id=1LO_v8kgF0S8UbeNeA5eeUp9LUohseCbJ)\n"
      ],
      "metadata": {
        "id": "n9wQBpAxcwnq"
      }
    },
    {
      "cell_type": "code",
      "source": [
        "%%sql\n",
        "# Insert Your Code Here"
      ],
      "metadata": {
        "id": "wbwsmr4Vcwnq"
      },
      "execution_count": null,
      "outputs": []
    },
    {
      "cell_type": "markdown",
      "source": [
        "**Task 8.2** The HR department needs a list of countries that have no departments located in them. Display the country IDs and the names of the countries. Use the set operators to create this report.\n",
        "\n",
        "![hr-rl-sm.gif](https://drive.google.com/uc?id=1LRHEJ8xyL1l2kZRK52EjKJwZMquAc2ko)\n"
      ],
      "metadata": {
        "id": "CHlo5_aCcwnq"
      }
    },
    {
      "cell_type": "code",
      "source": [
        "%%sql\n",
        "# Insert Your Code Here"
      ],
      "metadata": {
        "id": "AbnHFgwTcwnq"
      },
      "execution_count": null,
      "outputs": []
    },
    {
      "cell_type": "markdown",
      "source": [
        "**Task 8.3** Produce a list of jobs for departments 10, 50, and 20, in that order. Display the job ID and department ID by using the set operators.\n",
        "\n",
        "\n",
        "![hr-rl-sm.gif](https://drive.google.com/uc?id=1boH6TdPEif3k3mzWbeiqCTQDxmd3MNN8)\n"
      ],
      "metadata": {
        "id": "AWr4HhLicwnr"
      }
    },
    {
      "cell_type": "code",
      "source": [
        "%%sql\n",
        "# Insert Your Code Here"
      ],
      "metadata": {
        "id": "udrKrItwcwnr"
      },
      "execution_count": null,
      "outputs": []
    },
    {
      "cell_type": "markdown",
      "source": [
        "**Task 8.4** Create a report that lists the employee IDs and job IDs of those employees who currently have a job title that is the same as their previous one (that is, they changed jobs but have now gone back to doing the same job they did previously).\n",
        "\n",
        "\n",
        "![hr-rl-sm.gif](https://drive.google.com/uc?id=1Zyoa2HI8TgeMTWecxsl-3vkhqYD29YVy)\n"
      ],
      "metadata": {
        "id": "GdUvq-6lcwnr"
      }
    },
    {
      "cell_type": "code",
      "source": [
        "%%sql\n",
        "# Insert Your Code Here"
      ],
      "metadata": {
        "id": "2mxlPMVccwnr"
      },
      "execution_count": null,
      "outputs": []
    },
    {
      "cell_type": "markdown",
      "source": [
        "**Task 8.5** The HR department needs a report with the following specifications:\n",
        "- Last names and department IDs of all employees from the <code>employees</code> table,\n",
        "regardless of whether or not they belong to a department\n",
        "- Department IDs and department names of all departments from the <code>departments</code>\n",
        "table, regardless of whether or not they have employees working in them.\n",
        "\n",
        "\n",
        "![hr-rl-sm.gif](https://drive.google.com/uc?id=1QyBB-otpXkm11XEFdXCJWZB4G1MwUH6L)\n"
      ],
      "metadata": {
        "id": "odE3Ogm7cwnr"
      }
    },
    {
      "cell_type": "code",
      "source": [
        "%%sql\n",
        "# Insert Your Code Here"
      ],
      "metadata": {
        "id": "PgyZP8zFcwnr"
      },
      "execution_count": null,
      "outputs": []
    },
    {
      "cell_type": "markdown",
      "source": [
        "##**Lab 9**: Managing Tables Using DML Statements\n",
        "This practice covers the following topics:\n",
        "- Inserting rows into tables\n",
        "- Updating and deleting rows in a table\n",
        "- Controlling transactions\n",
        "\n",
        "The HR department wants you to create SQL statements to insert, update, and delete employee data."
      ],
      "metadata": {
        "id": "v_gbt5wpeesC"
      }
    },
    {
      "cell_type": "markdown",
      "source": [
        "**Task 9.1** Create a table callled <code>my_employee</code> table following the specifiction below.\n",
        "\n",
        "![hr-rl-sm.gif](https://drive.google.com/uc?id=1crmGS6rbj-VfKSndgiSXKAsHK3CbS2yI)\n"
      ],
      "metadata": {
        "id": "5OoXV7FbeesH"
      }
    },
    {
      "cell_type": "code",
      "source": [
        "%%sql\n",
        "# Insert Your Code Here"
      ],
      "metadata": {
        "id": "NRBbywcmeesH"
      },
      "execution_count": null,
      "outputs": []
    },
    {
      "cell_type": "markdown",
      "source": [
        "**Task 9.2** Describe the structure of the <code>my_employee</code> table to identify the column names."
      ],
      "metadata": {
        "id": "4ea1w5mTeesI"
      }
    },
    {
      "cell_type": "code",
      "source": [
        "%%sql\n",
        "# Insert Your Code Here"
      ],
      "metadata": {
        "id": "Sjn2Ny8jeesI"
      },
      "execution_count": null,
      "outputs": []
    },
    {
      "cell_type": "markdown",
      "source": [
        "**Task 9.3** Create an <code>INSERT</code> statement to add the first row of data to the <code>my_employee</code> table from the following sample data. Do not list the columns in the <code>INSERT</code> clause. *Do not enter all rows yet.*\n",
        "\n",
        "![hr-rl-sm.gif](https://drive.google.com/uc?id=18P-spYgHY90XjsycdgzRvh3-GAy-ynzB)"
      ],
      "metadata": {
        "id": "8McJEMtDeesI"
      }
    },
    {
      "cell_type": "code",
      "source": [
        "%%sql\n",
        "# Insert Your Code Here"
      ],
      "metadata": {
        "id": "EVNLw4lVeesI"
      },
      "execution_count": null,
      "outputs": []
    },
    {
      "cell_type": "markdown",
      "source": [
        "**Task 9.4** Populate the <code>MY_EMPLOYEE</code> table with the second row of the sample data from the preceding list. This time, list the columns explicitly in the INSERT clause."
      ],
      "metadata": {
        "id": "anXsPBjkeesI"
      }
    },
    {
      "cell_type": "code",
      "source": [
        "%%sql\n",
        "# Insert Your Code Here"
      ],
      "metadata": {
        "id": "yBBIEIIYeesI"
      },
      "execution_count": null,
      "outputs": []
    },
    {
      "cell_type": "markdown",
      "source": [
        "**Task 9.5** Confirm your addition to the table.\n",
        "\n",
        "![hr-rl-sm.gif](https://drive.google.com/uc?id=18iNa3cFtj1-gH2cMAen5B3cOczh4NCoj)\n"
      ],
      "metadata": {
        "id": "XOsizbTxeesI"
      }
    },
    {
      "cell_type": "code",
      "source": [
        "%%sql\n",
        "# Insert Your Code Here"
      ],
      "metadata": {
        "id": "_jX-oCkNeesI"
      },
      "execution_count": null,
      "outputs": []
    },
    {
      "cell_type": "markdown",
      "source": [
        "**Task 9.6** Write an <code>INSERT</code> statement to load the remaining rows into the <code>my_employee</code> table."
      ],
      "metadata": {
        "id": "A5tDpycrgRie"
      }
    },
    {
      "cell_type": "code",
      "source": [
        "%%sql\n",
        "# Insert Your Code Here"
      ],
      "metadata": {
        "id": "cKHLTwwsgRik"
      },
      "execution_count": null,
      "outputs": []
    },
    {
      "cell_type": "markdown",
      "source": [
        "**Task 9.7** Make the data additions permanent. Confirm  your addition to the table.\n",
        "\n",
        "![hr-rl-sm.gif](https://drive.google.com/uc?id=1zn3iztWf7DMl6YNA0vQDrZZm0yVs89XQ)\n"
      ],
      "metadata": {
        "id": "qBTZZkxygSc4"
      }
    },
    {
      "cell_type": "code",
      "source": [
        "%%sql\n",
        "# Insert Your Code Here"
      ],
      "metadata": {
        "id": "I2-EiGzbgSc4"
      },
      "execution_count": null,
      "outputs": []
    },
    {
      "cell_type": "code",
      "source": [
        "%%sql\n",
        "# Insert Your Code Here"
      ],
      "metadata": {
        "id": "VQofiUnGF6uU"
      },
      "execution_count": null,
      "outputs": []
    },
    {
      "cell_type": "markdown",
      "source": [
        "**Task 9.8** Update and delete data in the <code>my_employee</code> table. Change the last name of employee 4 to Johnson."
      ],
      "metadata": {
        "id": "R58d8CtzhWoB"
      }
    },
    {
      "cell_type": "code",
      "source": [
        "%%sql\n",
        "# Insert Your Code Here"
      ],
      "metadata": {
        "id": "vCG-snpnhWoH"
      },
      "execution_count": null,
      "outputs": []
    },
    {
      "cell_type": "markdown",
      "source": [
        "**Task 9.9** Change the salary to \\$1,000 for all employees who have a salary less than \\$900."
      ],
      "metadata": {
        "id": "26L0FqbVhWoI"
      }
    },
    {
      "cell_type": "code",
      "source": [
        "%%sql\n",
        "# Insert Your Code Here"
      ],
      "metadata": {
        "id": "E6KCvOBChWoI"
      },
      "execution_count": null,
      "outputs": []
    },
    {
      "cell_type": "markdown",
      "source": [
        "**Task 9.10** . Verify your changes to the table.\n",
        "\n",
        "![hr-rl-sm.gif](https://drive.google.com/uc?id=1QeiGz5E42bYS3Xjxosr9-cjAaXhGaelH)\n"
      ],
      "metadata": {
        "id": "pIqQipxUhWoI"
      }
    },
    {
      "cell_type": "code",
      "source": [
        "%%sql\n",
        "# Insert Your Code Here"
      ],
      "metadata": {
        "id": "YUD_jQkrhWoI"
      },
      "execution_count": null,
      "outputs": []
    },
    {
      "cell_type": "markdown",
      "source": [
        "**Task 9.11** Delete Isaac Newton from the <code>my_employee</code> table."
      ],
      "metadata": {
        "id": "_3NazKbjhWoI"
      }
    },
    {
      "cell_type": "code",
      "source": [
        "%%sql\n",
        "# Insert Your Code Here"
      ],
      "metadata": {
        "id": "JW1jrSaphWoI"
      },
      "execution_count": null,
      "outputs": []
    },
    {
      "cell_type": "markdown",
      "source": [
        "**Task 9.12** Confirm your changes to the table.\n",
        "\n",
        "![hr-rl-sm.gif](https://drive.google.com/uc?id=1ATgGpKeAIuc2Wi8Gytg2fkcPpktnt3r6)\n"
      ],
      "metadata": {
        "id": "ejiOI89-hWoI"
      }
    },
    {
      "cell_type": "code",
      "source": [
        "%%sql\n",
        "# Insert Your Code Here"
      ],
      "metadata": {
        "id": "QAtj6NVKhWoI"
      },
      "execution_count": null,
      "outputs": []
    },
    {
      "cell_type": "markdown",
      "source": [
        "**Task 9.13** Make the change permanent."
      ],
      "metadata": {
        "id": "jD-cffaDzz2G"
      }
    },
    {
      "cell_type": "code",
      "source": [
        "%%sql\n",
        "# Insert Your Code Here"
      ],
      "metadata": {
        "id": "OClADPRQzz2G"
      },
      "execution_count": null,
      "outputs": []
    },
    {
      "cell_type": "markdown",
      "source": [
        "**Task 9.14** Control the data transaction to the my_employee table by using <code>TRANSACTION</code> block, <code>SAVEPOINT</code> and <code>ROLLBACK</code>.\n",
        "<pre>\n",
        "START TRANSACTION;\n",
        "SAVEPOINT sp;\n",
        "INSERT INTO my_employee VALUES (1, 'Newton', 'Isaac', 'inewton', 886);\n",
        "ROLLBACK TO SAVEPOINT sp;\n",
        "</pre>"
      ],
      "metadata": {
        "id": "U_XUJEiFhWoJ"
      }
    },
    {
      "cell_type": "code",
      "source": [
        "%%writefile ./transaction_block.sql\n",
        "START TRANSACTION;\n",
        "SAVEPOINT sp;\n",
        "INSERT INTO my_employee VALUES (1, 'Newton', 'Isaac', 'inewton', 886);\n",
        "ROLLBACK TO SAVEPOINT sp;"
      ],
      "metadata": {
        "id": "iE9H6Y1QWTvW"
      },
      "execution_count": null,
      "outputs": []
    },
    {
      "cell_type": "code",
      "source": [
        "# Insert Your Code Here"
      ],
      "metadata": {
        "id": "_m8t2s-uX5rR"
      },
      "execution_count": null,
      "outputs": []
    },
    {
      "cell_type": "markdown",
      "source": [
        "**Task 9.15** Confirm the change has been reversed.\n",
        "\n",
        "![hr-rl-sm.gif](https://drive.google.com/uc?id=1j8O3VpMU7acjx702vU3vrFQKJIaVRzKZ)\n"
      ],
      "metadata": {
        "id": "nSyQaaDN6J1r"
      }
    },
    {
      "cell_type": "code",
      "source": [
        "%%sql\n",
        "# Insert Your Code Here"
      ],
      "metadata": {
        "id": "p01lGWng6Kj3"
      },
      "execution_count": null,
      "outputs": []
    },
    {
      "cell_type": "markdown",
      "source": [
        "**Task 9.13** Drop the <code>my_employee</code> table, and confirm the table was dropped. Confirm the table was dropped."
      ],
      "metadata": {
        "id": "-9EHsY_DriGw"
      }
    },
    {
      "cell_type": "code",
      "source": [
        "%%sql\n",
        "# Insert Your Code Here"
      ],
      "metadata": {
        "id": "YtktbMmmriGw"
      },
      "execution_count": null,
      "outputs": []
    },
    {
      "cell_type": "code",
      "source": [
        "%%sql\n",
        "# Insert Your Code Here"
      ],
      "metadata": {
        "id": "JBGN98Yirs8H"
      },
      "execution_count": null,
      "outputs": []
    },
    {
      "cell_type": "markdown",
      "source": [
        "##**Lab 10**: Data Definition Language (DDL)\n",
        "This practice covers the following topics:\n",
        "- Creating new tables\n",
        "- Creating a new table by using the <code>CREATE TABLE AS</code> syntax\n",
        "- Verifying that tables exist\n",
        "- Altering tables\n",
        "- Adding columns\n",
        "- Dropping columns\n",
        "- Setting a table to read-only status\n",
        "- Dropping tables\n",
        "\n",
        "Create new tables by using the <code>CREATE TABLE</code> statement. Confirm that the new table was\n",
        "added to the database. You also learn to set the status of a table as <code>READ ONLY</code>, and then\n",
        "revert to <code>READ/WRITE</code>. You use the <code>ALTER TABLE</code> command to modify table columns."
      ],
      "metadata": {
        "id": "3qktL7N3j-XJ"
      }
    },
    {
      "cell_type": "markdown",
      "source": [
        "**Task 10.1** Create the <code>dept</code> table based on the following table instance chart. Execute the statement in the script to create the\n",
        "table. Confirm that the table is created.\n",
        "\n",
        "![hr-rl-sm.gif](https://drive.google.com/uc?id=1osJcrerBWa4KVGC0C48w6bhDdPBk7Yqe)\n"
      ],
      "metadata": {
        "id": "fHBfL0CUj-XP"
      }
    },
    {
      "cell_type": "code",
      "source": [
        "%%sql\n",
        "# Insert Your Code Here"
      ],
      "metadata": {
        "id": "76CtZNAyj-XP"
      },
      "execution_count": null,
      "outputs": []
    },
    {
      "cell_type": "code",
      "source": [
        "%%sql\n",
        "# Insert Your Code Here\n",
        "DESCRIBE dept;"
      ],
      "metadata": {
        "id": "NNOjh1D1k9fN"
      },
      "execution_count": null,
      "outputs": []
    },
    {
      "cell_type": "markdown",
      "source": [
        "**Task 10.2** Create the <code>emp</code> table based on the following table instance chart. Execute the statement in the script to create the table. Confirm that the table is created.\n",
        "\n",
        "![hr-rl-sm.gif](https://drive.google.com/uc?id=1P4anm5udxMkRBYjl6-fUTYqtblf5U-pt)\n"
      ],
      "metadata": {
        "id": "U6w2CIfLj-XP"
      }
    },
    {
      "cell_type": "code",
      "source": [
        "%%sql\n",
        "# Insert Your Code Here"
      ],
      "metadata": {
        "id": "AXHx-yY6j-XP"
      },
      "execution_count": null,
      "outputs": []
    },
    {
      "cell_type": "code",
      "source": [
        "%%sql\n",
        "# Insert Your Code Here"
      ],
      "metadata": {
        "id": "nTTWEHLYlZwP"
      },
      "execution_count": null,
      "outputs": []
    },
    {
      "cell_type": "markdown",
      "source": [
        "**Task 10.3** Modify the <code>emp</code> table. Add a <code>commission</code> column of the <code>DECIMAL</code> data type, with precision 2\n",
        "and scale 2. Confirm your modification.\n",
        "\n",
        "![hr-rl-sm.gif](https://drive.google.com/uc?id=1Tzw1qXsNDDAKIkBYUdVY1dWNHXBzX_i9)\n"
      ],
      "metadata": {
        "id": "OmDCvFxCj-XP"
      }
    },
    {
      "cell_type": "code",
      "source": [
        "%%sql\n",
        "# Insert Your Code Here"
      ],
      "metadata": {
        "id": "21V07x9Lj-XP"
      },
      "execution_count": null,
      "outputs": []
    },
    {
      "cell_type": "code",
      "source": [
        "%%sql\n",
        "# Insert Your Code Here"
      ],
      "metadata": {
        "id": "jjCSawxalqOt"
      },
      "execution_count": null,
      "outputs": []
    },
    {
      "cell_type": "markdown",
      "source": [
        "**Task 10.4** Modify the emp table to allow for longer employee last names. Confirm your modification.\n",
        "\n",
        "![hr-rl-sm.gif](https://drive.google.com/uc?id=1K2sKSgfuG5vGbk0D6h6UEz6C0py-vE38)\n"
      ],
      "metadata": {
        "id": "6EsTcdp3j-XP"
      }
    },
    {
      "cell_type": "code",
      "source": [
        "%%sql\n",
        "# Insert Your Code Here"
      ],
      "metadata": {
        "id": "ltTCsKSOj-XP"
      },
      "execution_count": null,
      "outputs": []
    },
    {
      "cell_type": "code",
      "source": [
        "%%sql\n",
        "# Insert Your Code Here"
      ],
      "metadata": {
        "id": "jxkhWLFNM8O1"
      },
      "execution_count": null,
      "outputs": []
    },
    {
      "cell_type": "markdown",
      "source": [
        "**Task 10.5** Drop the <code>first_name</code> column from the <code>emp</code> table. Confirm your modification by checking the description of the table.\n",
        "\n",
        "![hr-rl-sm.gif](https://drive.google.com/uc?id=1RfZyDgKKoer6Otm0ZsmARPwGnRephF5r)\n"
      ],
      "metadata": {
        "id": "gBV4J-vMj-XQ"
      }
    },
    {
      "cell_type": "code",
      "source": [
        "%%sql\n",
        "# Insert Your Code Here"
      ],
      "metadata": {
        "id": "Z0VO3duAj-XQ"
      },
      "execution_count": null,
      "outputs": []
    },
    {
      "cell_type": "code",
      "source": [
        "%%sql\n",
        "# Insert Your Code Here"
      ],
      "metadata": {
        "id": "NXh5xWbgl8kz"
      },
      "execution_count": null,
      "outputs": []
    },
    {
      "cell_type": "markdown",
      "source": [
        "**Task 10.6** Create the </code>employee2</code> table based on the structure of the <code>employees</code> table. Include only the <code>employee_id</code>, <code>first_name</code>, <code>last_name</code>, <code>salary</code>, and <code>department_id</code> columns. Name the columns in your new table <code>id</code>, <code>first_name</code>, <code>last_name</code>, <code>SALARY</code>, and <code>dept_id</code>, respectively.\n",
        "\n",
        "![hr-rl-sm.gif](https://drive.google.com/uc?id=1MK57dhqzWHv-WjnD7t0UJFIEckDzZdh4)\n"
      ],
      "metadata": {
        "id": "2FKpxBfDj-XQ"
      }
    },
    {
      "cell_type": "code",
      "source": [
        "%%sql\n",
        "# Insert Your Code Here"
      ],
      "metadata": {
        "id": "7Xil4RMsj-XQ"
      },
      "execution_count": null,
      "outputs": []
    },
    {
      "cell_type": "code",
      "source": [
        "%%sql\n",
        "# Insert Your Code Here"
      ],
      "metadata": {
        "id": "ZQAeyLx7NSun"
      },
      "execution_count": null,
      "outputs": []
    },
    {
      "cell_type": "markdown",
      "source": [
        "**Task 10.7** Drop the <code>my_employee</code>, <code>emp</code>, <code>dept</code>, and <code>employee2</code> table. Confirm the tables were dropped."
      ],
      "metadata": {
        "id": "7TpOU5q_nFtq"
      }
    },
    {
      "cell_type": "code",
      "source": [
        "%%sql\n",
        "# Insert Your Code Here"
      ],
      "metadata": {
        "id": "Y-AwldEnnFtq"
      },
      "execution_count": null,
      "outputs": []
    },
    {
      "cell_type": "code",
      "source": [
        "%%sql\n",
        "# Insert Your Code Here"
      ],
      "metadata": {
        "id": "YqbkCXZjn1OA"
      },
      "execution_count": null,
      "outputs": []
    },
    {
      "cell_type": "markdown",
      "source": [
        "##**Lab 11**: Creating Views\n",
        "This practice covers the following topics:\n",
        "- Creating a simple view\n",
        "- Creating a complex view\n",
        "- Creating a view with a check constraint\n",
        "- Attempting to modify data in the view\n",
        "- Querying the dictionary views for view information\n",
        "- Removing views\n"
      ],
      "metadata": {
        "id": "ET80qAnkrBeU"
      }
    },
    {
      "cell_type": "markdown",
      "source": [
        "**Task 11.1** The staff in the HR department wants to hide some of the data in the <code>employees</code> table. Create a view called <code>employees_vw</code> based on the employee numbers, employee last names, and department numbers from the <code>employees</code> table. The heading for the\n",
        "employee name should be <code>employee</code>.\n"
      ],
      "metadata": {
        "id": "TbWdeTGErMUF"
      }
    },
    {
      "cell_type": "code",
      "source": [
        "%%sql\n",
        "# Insert Your Code Here"
      ],
      "metadata": {
        "id": "lawQudOirMUF"
      },
      "execution_count": null,
      "outputs": []
    },
    {
      "cell_type": "markdown",
      "source": [
        "**Task 11.2** Confirm that the view works. Display the contents of the <code>employees_vw</code> view.\n",
        "\n",
        "![hr-rl-sm.gif](https://drive.google.com/uc?id=1ikRx9DlY7hExvRp4a3SvsL7KZXFKrBk2)"
      ],
      "metadata": {
        "id": "FXYpALL3rMUG"
      }
    },
    {
      "cell_type": "code",
      "source": [
        "%%sql\n",
        "# Insert Your Code Here"
      ],
      "metadata": {
        "id": "JlfhZ_IerMUG"
      },
      "execution_count": null,
      "outputs": []
    },
    {
      "cell_type": "markdown",
      "source": [
        "**Task 11.3** Using your <code>employees_vw</code> view, write a query for the HR department to display all employee names and department numbers.\n",
        "\n",
        "![hr-rl-sm.gif](https://drive.google.com/uc?id=1NIyw80Sguiui0E5SDcP73KGrfCF0hAaM)"
      ],
      "metadata": {
        "id": "4EI84PZTrMUG"
      }
    },
    {
      "cell_type": "code",
      "source": [
        "%%sql\n",
        "# Insert Your Code Here"
      ],
      "metadata": {
        "id": "aF9vNU17rMUG"
      },
      "execution_count": null,
      "outputs": []
    },
    {
      "cell_type": "markdown",
      "source": [
        "**Task 11.4** Department 80 needs access to its employee data. Create a view named <code>dept80</code> that contains the employee numbers, employee last names, and department numbers for all employees in department 80. They have requested that you label the view columns <code>empno</code>,\n",
        "<code>employee</code> and <code>depno</code>. For security purposes, do not allow an employee to be reassigned to another department through the view.\n"
      ],
      "metadata": {
        "id": "x4B8e6vCrMUH"
      }
    },
    {
      "cell_type": "code",
      "source": [
        "%%sql\n",
        "# Insert Your Code Here"
      ],
      "metadata": {
        "id": "vTOqtWYZrMUH"
      },
      "execution_count": null,
      "outputs": []
    },
    {
      "cell_type": "markdown",
      "source": [
        "**Task 11.5** Display the structure and contents of the <code>dept80</code> view.\n",
        "\n",
        "![hr-rl-sm.gif](https://drive.google.com/uc?id=1wPlmKDWzRwVV8JXlCZyXdswq3KYO1bqA)\n",
        "\n",
        "![hr-rl-sm.gif](https://drive.google.com/uc?id=1PRtFcge2Jn19pJDeZ1vhZXwefTmoDTXG)\n"
      ],
      "metadata": {
        "id": "RxQbNxMerMUH"
      }
    },
    {
      "cell_type": "code",
      "source": [
        "%%sql\n",
        "# Insert Your Code Here"
      ],
      "metadata": {
        "id": "ZTmhnOhZrMUH"
      },
      "execution_count": null,
      "outputs": []
    },
    {
      "cell_type": "code",
      "source": [
        "%%sql\n",
        "# Insert Your Code Here"
      ],
      "metadata": {
        "id": "q8hxOledrMUI"
      },
      "execution_count": null,
      "outputs": []
    },
    {
      "cell_type": "markdown",
      "source": [
        "**Task 11.6** Test your view. Attempt to reassign <code>Abel</code> to department 50. The error is because the <code>dept50</code> view has been created with the WITH <code>CHECK OPTION</code> constraint. This ensures that the <code>depno</code> column in the view is protected from being changed.\n",
        "\n",
        "![hr-rl-sm.gif](https://drive.google.com/uc?id=1wBXmJceA6oZlJsuHbHZ9deAfTNX4fnJH)\n"
      ],
      "metadata": {
        "id": "C08szZYirMUI"
      }
    },
    {
      "cell_type": "code",
      "source": [
        "%%sql\n",
        "# Insert Your Code Here"
      ],
      "metadata": {
        "id": "Ru-v_LuLrMUI"
      },
      "execution_count": null,
      "outputs": []
    },
    {
      "cell_type": "markdown",
      "source": [
        "**Task 11.7** Remove the views created in this practice. Confirm if the views have been removed."
      ],
      "metadata": {
        "id": "pDbnVBuurMUI"
      }
    },
    {
      "cell_type": "code",
      "source": [
        "%%sql\n",
        "# Insert Your Code Here"
      ],
      "metadata": {
        "id": "7gLGEtgDrMUI"
      },
      "execution_count": null,
      "outputs": []
    },
    {
      "cell_type": "code",
      "source": [
        "%%sql\n",
        "# Insert Your Code Here"
      ],
      "metadata": {
        "id": "rXEGAhsrrMUI"
      },
      "execution_count": null,
      "outputs": []
    },
    {
      "cell_type": "markdown",
      "source": [
        "##**Lab 12**: Retrieving Data by Using Subqueries\n",
        "This practice covers the following topics:\n",
        "- Creating multiple-column subqueries\n",
        "- Writing correlated subqueries\n",
        "- Using the <code>EXISTS</code> operator\n",
        "- Using scalar subqueries\n",
        "- Using the <code>WITH</code> clause"
      ],
      "metadata": {
        "id": "Un7_efUHoHAn"
      }
    },
    {
      "cell_type": "markdown",
      "source": [
        "**Task 12.1** Write a query to display the last name, department number, and salary of any employee whose department number and salary both match the department number and salary of any employee who earns a commission.\n",
        "\n",
        "![hr-rl-sm.gif](https://drive.google.com/uc?id=1W9MCup-0A3SrmOtMbmLk6lQGtQGDzO1S)"
      ],
      "metadata": {
        "id": "fCdC8S3ToHAq"
      }
    },
    {
      "cell_type": "code",
      "source": [
        "%%sql\n",
        "# Insert Your Code Here"
      ],
      "metadata": {
        "id": "zydsKvcooHAr"
      },
      "execution_count": null,
      "outputs": []
    },
    {
      "cell_type": "markdown",
      "source": [
        "**Task 12.2** Display the last name, department name, and salary of any employee whose salary and <code>job_id</code> match the salary and job_ID of any employee located in location ID 1700.\n",
        "\n",
        "![hr-rl-sm.gif](https://drive.google.com/uc?id=1KaGyD5dNRgedEOhh465XGxmxs2GBqLqd)\n"
      ],
      "metadata": {
        "id": "uDSL74F9oHAt"
      }
    },
    {
      "cell_type": "code",
      "source": [
        "%%sql\n",
        "# Insert Your Code Here"
      ],
      "metadata": {
        "id": "pwAEmv8toHAv"
      },
      "execution_count": null,
      "outputs": []
    },
    {
      "cell_type": "markdown",
      "source": [
        "**Task 12.3** Create a query to display the last name, hire date, and salary for all employees who have the same salary and <code>manager_id</code> as <code>Kochhar</code>.\n",
        "\n",
        "Note: Do not display <code>Kochhar</code> in the result set.\n",
        "\n",
        "![hr-rl-sm.gif](https://drive.google.com/uc?id=1Vw_PbSRY7UX_QMeTGyYFPvZShSDEudM3)\n",
        "\n"
      ],
      "metadata": {
        "id": "YI_MPVjwoHAz"
      }
    },
    {
      "cell_type": "code",
      "source": [
        "%%sql\n",
        "# Insert Your Code Here"
      ],
      "metadata": {
        "id": "LlhxPpkxoHA1"
      },
      "execution_count": null,
      "outputs": []
    },
    {
      "cell_type": "markdown",
      "source": [
        "**Task 12.4** Create a query to display the employees who earn a salary that is higher than the salary of all the sales managers (<code>JOB_ID = 'SA_MAN'</code>). Sort the results on salary from the highest to the lowest.\n",
        "\n",
        "![hr-rl-sm.gif](https://drive.google.com/uc?id=1PU560ftaHz6EsDtcS3n-v7mor8kXpQb6)\n"
      ],
      "metadata": {
        "id": "Ur2l7BzUoHA2"
      }
    },
    {
      "cell_type": "code",
      "source": [
        "%%sql\n",
        "# Insert Your Code Here"
      ],
      "metadata": {
        "id": "WiPN1vOGoHA3"
      },
      "execution_count": null,
      "outputs": []
    },
    {
      "cell_type": "markdown",
      "source": [
        "**Task 12.5** Display details such as the employee ID, last name, and department ID of those employees who live in cities the names of which begin with <code>T</code>.\n",
        "\n",
        "![hr-rl-sm.gif](https://drive.google.com/uc?id=1p3ubDNkUeeYf614BChU2319Fz1gz1O5V)\n"
      ],
      "metadata": {
        "id": "XA6oSgPXoHA7"
      }
    },
    {
      "cell_type": "code",
      "source": [
        "%%sql\n",
        "# Insert Your Code Here"
      ],
      "metadata": {
        "id": "SQ_NM8yqoHA8"
      },
      "execution_count": null,
      "outputs": []
    },
    {
      "cell_type": "markdown",
      "source": [
        "**Task 12.6** Write a query to find all employees who earn more than the average salary in their departments. Display last name, salary, department ID, and the average salary for the department. Sort by average salary and round to two decimals. Use aliases for the columns retrieved by the query as shown in the sample output.\n",
        "\n",
        "![hr-rl-sm.gif](https://drive.google.com/uc?id=10G2EzeADo2oE88N2xvBGwyInGuTuZYEH)\n"
      ],
      "metadata": {
        "id": "wsrkZYsZoHA9"
      }
    },
    {
      "cell_type": "code",
      "source": [
        "%%sql\n",
        "# Insert Your Code Here"
      ],
      "metadata": {
        "id": "A6N06tEpoHA_"
      },
      "execution_count": null,
      "outputs": []
    },
    {
      "cell_type": "markdown",
      "source": [
        "**Task 12.7** Find all employees who are not supervisors.\n",
        "- First, do this by using the NOT EXISTS operator.\n",
        "\n",
        "![hr-rl-sm.gif](https://drive.google.com/uc?id=1xkZ2jD9nKO8Ag3xXTh_9InPvNZvo9XlS)"
      ],
      "metadata": {
        "id": "QVRJDRx_gGBS"
      }
    },
    {
      "cell_type": "code",
      "source": [
        "%%sql\n",
        "# Insert Your Code Here"
      ],
      "metadata": {
        "id": "LEKGWO2TgGBT"
      },
      "execution_count": null,
      "outputs": []
    },
    {
      "cell_type": "markdown",
      "source": [
        "- Can this be done by using the NOT IN operator? How, or why not?\n",
        "\n",
        "![hr-rl-sm.gif](https://drive.google.com/uc?id=1Ogn4fc3e-QyVnusf22KQLn2d-8_uL5-e)\n"
      ],
      "metadata": {
        "id": "Sfd5JiDHgwLv"
      }
    },
    {
      "cell_type": "code",
      "source": [
        "%%sql\n",
        "# Insert Your Code Here"
      ],
      "metadata": {
        "id": "KkVR-qL-gANp"
      },
      "execution_count": null,
      "outputs": []
    },
    {
      "cell_type": "markdown",
      "source": [
        "**Task 12.8** Write a query to display the last names of the employees who earn less than the average salary in their departments.\n",
        "\n",
        "![hr-rl-sm.gif](https://drive.google.com/uc?id=1a3fzbx7ENlNiXxzKvoo5zHp7y-smC7tv)\n"
      ],
      "metadata": {
        "id": "SdSrrVY7hLgj"
      }
    },
    {
      "cell_type": "code",
      "source": [
        "%%sql\n",
        "# Insert Your Code Here"
      ],
      "metadata": {
        "id": "Qc5mIxfphLgk"
      },
      "execution_count": null,
      "outputs": []
    },
    {
      "cell_type": "markdown",
      "source": [
        "**Task 12.9** Write a query to display the last names of employees who have one or more coworkers in their departments with later hire dates but higher salaries.\n",
        "\n",
        "![hr-rl-sm.gif](https://drive.google.com/uc?id=1TU42V2wmlkyDAKvKb8DHqouOvUIOAcl3)\n"
      ],
      "metadata": {
        "id": "UKpOWYC_heey"
      }
    },
    {
      "cell_type": "code",
      "source": [
        "%%sql\n",
        "# Insert Your Code Here"
      ],
      "metadata": {
        "id": "HDpxNeK9heez"
      },
      "execution_count": null,
      "outputs": []
    },
    {
      "cell_type": "markdown",
      "source": [
        "**Task 12.10** Write a query to display the employee ID, last names, and department names of all employees.\n",
        "\n",
        "![hr-rl-sm.gif](https://drive.google.com/uc?id=1E5AvzSRVMKXArDN1Zj7ayREoz2-GU6W5)\n"
      ],
      "metadata": {
        "id": "ICUnrUiSh47M"
      }
    },
    {
      "cell_type": "code",
      "source": [
        "%%sql\n",
        "# Insert Your Code Here"
      ],
      "metadata": {
        "id": "5nmWsEFth47N"
      },
      "execution_count": null,
      "outputs": []
    },
    {
      "cell_type": "markdown",
      "source": [
        "**Task 12.11** Write a query to display the department names of those departments whose total salary cost is above one-eighth (1/8) of the total salary cost of the whole company. Use the <code>WITH</code> clause to write this query.\n",
        "\n",
        "![hr-rl-sm.gif](https://drive.google.com/uc?id=12xS3asVbXZUaF-VPgsF8nhMoXd6A0L3r)\n"
      ],
      "metadata": {
        "id": "zoRvQHGsh5E7"
      }
    },
    {
      "cell_type": "code",
      "source": [
        "%%sql\n",
        "# Insert Your Code Here"
      ],
      "metadata": {
        "id": "iPIML3YRh5E7"
      },
      "execution_count": null,
      "outputs": []
    },
    {
      "cell_type": "code",
      "source": [],
      "metadata": {
        "id": "ZlT4VaJHoHBA"
      },
      "execution_count": null,
      "outputs": []
    }
  ]
}